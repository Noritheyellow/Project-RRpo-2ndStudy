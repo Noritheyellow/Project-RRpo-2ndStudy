{
 "cells": [
  {
   "cell_type": "code",
   "execution_count": 1,
   "metadata": {},
   "outputs": [
    {
     "name": "stdout",
     "output_type": "stream",
     "text": [
      "Is GPU Avaliable: [PhysicalDevice(name='/physical_device:GPU:0', device_type='GPU')]\n",
      "Is GPU Avaliable: [PhysicalDevice(name='/physical_device:GPU:0', device_type='GPU')]\n",
      "Is GPU Avaliable: PhysicalDevice(name='/physical_device:GPU:0', device_type='GPU')\n"
     ]
    }
   ],
   "source": [
    "import os\n",
    "os.environ['TF_CPP_MIN_LOG_LEVEL'] = '2'\n",
    "import numpy as np\n",
    "import pandas as pd\n",
    "import multiprocessing\n",
    "from scipy import signal\n",
    "from sklearn.model_selection import KFold\n",
    "from sklearn.preprocessing import MinMaxScaler, StandardScaler\n",
    "import tensorflow as tf\n",
    "import keras\n",
    "from keras.callbacks import EarlyStopping, ReduceLROnPlateau, ModelCheckpoint\n",
    "from model_src.DilatedResNet import DilatedResNet\n",
    "from model_src.BianResnet import BianResNet\n",
    "from model_src.LSTM import VanillaLSTM, CNNLSTM, BiLSTM, BiLSTMAttn\n",
    "from model_src.RespNet import RespNet\n",
    "\n",
    "physical_devices = tf.config.list_physical_devices('GPU')\n",
    "print(f'Is GPU Avaliable: {physical_devices[0]}')\n",
    "tf.config.experimental.set_memory_growth(physical_devices[0], enable=True)\n",
    "DATA_PATH = '/root/Workspace/DataLake/stMary'\n",
    "DATA_SAVE_PATH = '/root/Workspace/Project-RRpo-2ndStudy/dataset' "
   ]
  },
  {
   "cell_type": "code",
   "execution_count": 16,
   "metadata": {},
   "outputs": [],
   "source": [
    "EPOCHS = 1000\n",
    "BATCH_SIZE = 256\n",
    "LR = 0.001\n",
    "callbacks = [\n",
    "    EarlyStopping(monitor='val_loss', patience=33),\n",
    "    ReduceLROnPlateau(monitor='val_loss', factor=0.1, patience=10)\n",
    "]"
   ]
  },
  {
   "cell_type": "code",
   "execution_count": 17,
   "metadata": {},
   "outputs": [],
   "source": [
    "def gen_tfdataset(dataset, batchsize):\n",
    "    X = []; y = []\n",
    "    for pleth, resp in dataset:\n",
    "        X.append(pleth.astype(np.float32))\n",
    "        y.append(resp)\n",
    "\n",
    "    X = np.array(X); y = np.array(y).reshape(-1,1)\n",
    "    scaler = MinMaxScaler()\n",
    "    scaled_X = np.asarray([scaler.fit_transform(pleth.reshape(-1,1)) for pleth in X])\n",
    "    print(f'Overall: {scaled_X.shape}, {y.shape}')\n",
    "    return tf.data.Dataset.from_tensor_slices((scaled_X, y)).batch(batchsize)"
   ]
  },
  {
   "cell_type": "code",
   "execution_count": 4,
   "metadata": {},
   "outputs": [
    {
     "name": "stdout",
     "output_type": "stream",
     "text": [
      "(43, 2)\n"
     ]
    }
   ],
   "source": [
    "dataset = np.load(f'{DATA_SAVE_PATH}/230921/bidmc-trainval_dataset.npy', allow_pickle=True)\n",
    "print(dataset.shape)"
   ]
  },
  {
   "cell_type": "code",
   "execution_count": 5,
   "metadata": {},
   "outputs": [
    {
     "name": "stdout",
     "output_type": "stream",
     "text": [
      "Overall: (14735, 1800, 1), (14735, 1)\n",
      "Overall: (3368, 1800, 1), (3368, 1)\n"
     ]
    }
   ],
   "source": [
    "kf = KFold(n_splits=5, shuffle=True, random_state=42)\n",
    "# kf = KFold(n_splits=n_splits)\n",
    "train_losses = []; val_losses = []\n",
    "subject_id = np.array([subject[0] for subject in dataset])\n",
    "count = 1\n",
    "\n",
    "for i, idx in enumerate(kf.split(subject_id)):\n",
    "    if i != 4: continue\n",
    "    train_dataset = []; val_dataset = []\n",
    "    for id, samples in dataset:\n",
    "        if id in subject_id[idx[0]]: train_dataset.extend(samples)\n",
    "        else: val_dataset.extend(samples)\n",
    "    \n",
    "    train_dataset = np.array(train_dataset); val_dataset = np.array(val_dataset)\n",
    "\n",
    "    train_tf = gen_tfdataset(train_dataset, 256)\n",
    "    val_tf = gen_tfdataset(val_dataset, 256)"
   ]
  },
  {
   "cell_type": "code",
   "execution_count": 11,
   "metadata": {},
   "outputs": [
    {
     "data": {
      "text/plain": [
       "((3368, 1800, 1), (3368, 1))"
      ]
     },
     "execution_count": 11,
     "metadata": {},
     "output_type": "execute_result"
    }
   ],
   "source": [
    "val_pleth = np.concatenate([pleth.reshape(1,-1,1) for pleth, _ in val_dataset], axis=0)\n",
    "val_resp = np.array([resp for _, resp in val_dataset]).reshape(-1,1)\n",
    "val_pleth.shape, val_resp.shape"
   ]
  },
  {
   "cell_type": "code",
   "execution_count": 2,
   "metadata": {},
   "outputs": [
    {
     "data": {
      "text/plain": [
       "<tensorflow.python.checkpoint.checkpoint.CheckpointLoadStatus at 0x7f11581b3760>"
      ]
     },
     "execution_count": 2,
     "metadata": {},
     "output_type": "execute_result"
    }
   ],
   "source": [
    "load_model = DilatedResNet(num_of_blocks=4, kernel_size=2, dilation_rate=3, dwn_kernel_size=3, filters=8, strides_of_avg=2, units=86)\n",
    "load_model.compile(\n",
    "    optimizer=tf.keras.optimizers.Adam(learning_rate=0.001),\n",
    "    loss=keras.losses.MeanAbsoluteError(),\n",
    "    metrics=keras.metrics.MeanAbsoluteError()\n",
    ")\n",
    "load_model.load_weights(f\"../models/230924/bidmc/DilatedResNet/DilatedResNet-bidmc-KF3/ckpt\")"
   ]
  },
  {
   "cell_type": "code",
   "execution_count": 49,
   "metadata": {},
   "outputs": [
    {
     "name": "stdout",
     "output_type": "stream",
     "text": [
      "14/14 [==============================] - 1s 9ms/step\n"
     ]
    },
    {
     "data": {
      "text/plain": [
       "((3368, 1), (3368, 1), 1.608422804898151)"
      ]
     },
     "execution_count": 49,
     "metadata": {},
     "output_type": "execute_result"
    }
   ],
   "source": [
    "bian_pred_rr = load_model.predict(val_tf)\n",
    "bian_pred_rr.shape, val_resp.shape, np.mean(np.abs(val_resp - bian_pred_rr))"
   ]
  },
  {
   "cell_type": "code",
   "execution_count": 47,
   "metadata": {},
   "outputs": [
    {
     "name": "stdout",
     "output_type": "stream",
     "text": [
      "14/14 [==============================] - 7s 177ms/step\n"
     ]
    },
    {
     "data": {
      "text/plain": [
       "((3368, 1), (3368, 1), 1.7007454268439648)"
      ]
     },
     "execution_count": 47,
     "metadata": {},
     "output_type": "execute_result"
    }
   ],
   "source": [
    "respnet_pred_rr = load_model.predict(val_tf)\n",
    "respnet_pred_rr.shape, val_resp.shape, np.mean(np.abs(val_resp - respnet_pred_rr))"
   ]
  },
  {
   "cell_type": "code",
   "execution_count": 13,
   "metadata": {},
   "outputs": [
    {
     "name": "stdout",
     "output_type": "stream",
     "text": [
      "14/14 [==============================] - 1s 20ms/step\n"
     ]
    },
    {
     "data": {
      "text/plain": [
       "((3368, 1), (3368, 1), 1.485233128778725)"
      ]
     },
     "execution_count": 13,
     "metadata": {},
     "output_type": "execute_result"
    }
   ],
   "source": [
    "dil_pred_rr = load_model.predict(val_tf)\n",
    "dil_pred_rr.shape, val_resp.shape, np.mean(np.abs(val_resp - dil_pred_rr))"
   ]
  },
  {
   "attachments": {},
   "cell_type": "markdown",
   "metadata": {},
   "source": [
    "## PCC"
   ]
  },
  {
   "cell_type": "code",
   "execution_count": 79,
   "metadata": {},
   "outputs": [],
   "source": [
    "from scipy import stats"
   ]
  },
  {
   "cell_type": "code",
   "execution_count": 80,
   "metadata": {},
   "outputs": [
    {
     "data": {
      "text/plain": [
       "PearsonRResult(statistic=-0.05193979599808122, pvalue=0.0025679717998504177)"
      ]
     },
     "execution_count": 80,
     "metadata": {},
     "output_type": "execute_result"
    }
   ],
   "source": [
    "bian_r = stats.pearsonr(bian_pred_rr.reshape(-1), val_resp.reshape(-1), alternative='two-sided')\n",
    "bian_r"
   ]
  },
  {
   "cell_type": "code",
   "execution_count": 81,
   "metadata": {},
   "outputs": [
    {
     "data": {
      "text/plain": [
       "PearsonRResult(statistic=-0.3210570387028325, pvalue=1.3094305320639105e-81)"
      ]
     },
     "execution_count": 81,
     "metadata": {},
     "output_type": "execute_result"
    }
   ],
   "source": [
    "respnet_r = stats.pearsonr(respnet_pred_rr.reshape(-1), val_resp.reshape(-1), alternative='two-sided')\n",
    "respnet_r"
   ]
  },
  {
   "cell_type": "code",
   "execution_count": 82,
   "metadata": {},
   "outputs": [
    {
     "data": {
      "text/plain": [
       "PearsonRResult(statistic=0.5069308363383596, pvalue=2.1280747186597192e-219)"
      ]
     },
     "execution_count": 82,
     "metadata": {},
     "output_type": "execute_result"
    }
   ],
   "source": [
    "dil_r = stats.pearsonr(dil_pred_rr.reshape(-1), val_resp.reshape(-1), alternative='two-sided')\n",
    "dil_r"
   ]
  },
  {
   "attachments": {},
   "cell_type": "markdown",
   "metadata": {},
   "source": [
    "## Bar plot"
   ]
  },
  {
   "cell_type": "code",
   "execution_count": 117,
   "metadata": {},
   "outputs": [],
   "source": [
    "import matplotlib.pyplot as plt\n",
    "from scipy.stats import bartlett, ttest_ind"
   ]
  },
  {
   "cell_type": "code",
   "execution_count": 78,
   "metadata": {},
   "outputs": [
    {
     "data": {
      "image/png": "[encoded data removed]",
      "text/plain": [
       "<Figure size 700x700 with 1 Axes>"
      ]
     },
     "metadata": {},
     "output_type": "display_data"
    },
    {
     "name": "stdout",
     "output_type": "stream",
     "text": [
      "[array([0.2362175, 0.0004406]), array([1.18794441, 2.61253929]), array([2.7703476e-01, 3.6239624e-05]), array([1.22402048, 2.64184761]), array([0.28225994, 0.00094414]), array([1.63122797, 3.62897682])]\n",
      "[array([0.58432102, 0.58432102]), array([0.63928986, 0.63928986]), array([0.6503191, 0.6503191])]\n",
      "531 464 454\n"
     ]
    }
   ],
   "source": [
    "plt.figure(figsize=(7,7))\n",
    "box_err = plt.boxplot([np.abs(val_resp-bian_pred_rr).reshape(-1), np.abs(val_resp-respnet_pred_rr).reshape(-1), np.abs(val_resp-dil_pred_rr).reshape(-1)])\n",
    "plt.xticks([1,2,3], ['BianResNet', 'RespNet', 'DilatedResNet'])\n",
    "# plt.xlabel('Data Type')\n",
    "plt.ylabel('Absolute Error (rpm)')\n",
    "plt.show()\n",
    "\n",
    "whiskers = [item.get_ydata() for item in box_err['whiskers']]\n",
    "medians = [item.get_ydata() for item in box_err['medians']]\n",
    "fliers = [item.get_ydata() for item in box_err['fliers']]\n",
    "\n",
    "print(whiskers)\n",
    "print(medians)\n",
    "print(len(fliers[0]), len(fliers[1]), len(fliers[2]))"
   ]
  },
  {
   "attachments": {},
   "cell_type": "markdown",
   "metadata": {},
   "source": [
    "## plot"
   ]
  },
  {
   "cell_type": "code",
   "execution_count": 137,
   "metadata": {},
   "outputs": [],
   "source": [
    "kf = KFold(n_splits=5, shuffle=True, random_state=42)\n",
    "# kf = KFold(n_splits=n_splits)\n",
    "train_losses = []; val_losses = []\n",
    "subject_id = np.array([subject[0] for subject in dataset])\n",
    "count = 1\n",
    "\n",
    "for i, idx in enumerate(kf.split(subject_id)):\n",
    "    if i != 2: continue\n",
    "    train_id = []; val_id = []\n",
    "    for id, samples in dataset:\n",
    "        if id in subject_id[idx[0]]: train_id.append(id)\n",
    "        else: val_id.append(id)\n",
    "    \n",
    "    train_id = np.array(train_id); val_id = np.array(val_id)"
   ]
  },
  {
   "cell_type": "code",
   "execution_count": 138,
   "metadata": {},
   "outputs": [
    {
     "data": {
      "text/plain": [
       "array(['bidmc_02', 'bidmc_09', 'bidmc_17', 'bidmc_20', 'bidmc_25',\n",
       "       'bidmc_35', 'bidmc_38', 'bidmc_39', 'bidmc_52'], dtype='<U8')"
      ]
     },
     "execution_count": 138,
     "metadata": {},
     "output_type": "execute_result"
    }
   ],
   "source": [
    "val_id"
   ]
  },
  {
   "cell_type": "code",
   "execution_count": 184,
   "metadata": {},
   "outputs": [
    {
     "data": {
      "text/plain": [
       "(421, 2)"
      ]
     },
     "execution_count": 184,
     "metadata": {},
     "output_type": "execute_result"
    }
   ],
   "source": [
    "bidmc_sj = list(filter(lambda d: d[0]==val_id[2], dataset))\n",
    "bidmc_sj[0][1].shape"
   ]
  },
  {
   "cell_type": "code",
   "execution_count": 185,
   "metadata": {},
   "outputs": [
    {
     "name": "stdout",
     "output_type": "stream",
     "text": [
      "Overall: (421, 1800, 1), (421, 1)\n"
     ]
    }
   ],
   "source": [
    "bidmc_sjtf = gen_tfdataset(bidmc_sj[0][1], 256)"
   ]
  },
  {
   "cell_type": "code",
   "execution_count": 186,
   "metadata": {},
   "outputs": [
    {
     "data": {
      "text/plain": [
       "((421, 1800, 1), (421, 1))"
      ]
     },
     "execution_count": 186,
     "metadata": {},
     "output_type": "execute_result"
    }
   ],
   "source": [
    "b_pleth = np.array([pleth.reshape(-1,1) for pleth, resp in bidmc_sj[0][1]])\n",
    "b_resp = np.array([resp for pleth, resp in bidmc_sj[0][1]]).reshape(-1,1)\n",
    "b_pleth.shape, b_resp.shape"
   ]
  },
  {
   "cell_type": "code",
   "execution_count": 187,
   "metadata": {},
   "outputs": [
    {
     "name": "stdout",
     "output_type": "stream",
     "text": [
      "2/2 [==============================] - 0s 23ms/step\n"
     ]
    },
    {
     "data": {
      "text/plain": [
       "((421, 1), (421, 1), 0.5846812776035482)"
      ]
     },
     "execution_count": 187,
     "metadata": {},
     "output_type": "execute_result"
    }
   ],
   "source": [
    "b_pred_rr = load_model.predict(bidmc_sjtf)\n",
    "b_pred_rr.shape, b_resp.shape, np.mean(np.abs(b_resp - b_pred_rr))"
   ]
  },
  {
   "cell_type": "code",
   "execution_count": 193,
   "metadata": {},
   "outputs": [
    {
     "data": {
      "image/png": "[encoded data removed]",
      "text/plain": [
       "<Figure size 2000x500 with 1 Axes>"
      ]
     },
     "metadata": {},
     "output_type": "display_data"
    }
   ],
   "source": [
    "plt.figure(figsize=(20,5))\n",
    "plt.plot(b_resp, linestyle='--', label='rr_true')\n",
    "plt.plot(b_pred_rr, linestyle='--', label='rr_est')\n",
    "plt.yticks(np.arange(15,25))\n",
    "plt.legend()\n",
    "plt.ylabel('respiratory rate (rpm)', fontsize=15)\n",
    "plt.xlabel('offset', fontsize=15)\n",
    "plt.title(f'{val_id[2]}', fontsize=20)\n",
    "plt.savefig('../../Fig_rr.png')\n",
    "plt.show()"
   ]
  },
  {
   "cell_type": "markdown",
   "metadata": {},
   "source": [
    "# Test"
   ]
  },
  {
   "cell_type": "code",
   "execution_count": 164,
   "metadata": {},
   "outputs": [],
   "source": [
    "def get_trainable_X(dataset):\n",
    "    scaler = MinMaxScaler()\n",
    "    return np.expand_dims(scaler.fit_transform(np.vstack(dataset[:, 0])),axis=-1)\n",
    "\n",
    "\n",
    "def get_resp_class(dataset):\n",
    "    rapid_rr = []; normal_rr = []; slow_rr = []\n",
    "    for id, samples in dataset:\n",
    "        for sample in samples:\n",
    "            if sample[1] < 12: slow_rr.append(sample)\n",
    "            elif sample[1] > 20: rapid_rr.append(sample)\n",
    "            else: normal_rr.append(sample)\n",
    "    \n",
    "    rapid_rr = np.array(rapid_rr)\n",
    "    normal_rr = np.array(normal_rr)\n",
    "    slow_rr = np.array(slow_rr)\n",
    "    return rapid_rr, normal_rr, slow_rr\n",
    "\n",
    "\n",
    "def get_predict_performance(model, X, y):\n",
    "    y_pred = model.predict(X)\n",
    "    return y - y_pred"
   ]
  },
  {
   "cell_type": "code",
   "execution_count": 163,
   "metadata": {},
   "outputs": [
    {
     "data": {
      "text/plain": [
       "<tensorflow.python.checkpoint.checkpoint.CheckpointLoadStatus at 0x7f0f583ba710>"
      ]
     },
     "execution_count": 163,
     "metadata": {},
     "output_type": "execute_result"
    }
   ],
   "source": [
    "load_model = DilatedResNet(num_of_blocks=4, kernel_size=2, dilation_rate=3, dwn_kernel_size=3, filters=8, strides_of_avg=2, units=86)\n",
    "load_model.compile(\n",
    "    optimizer=tf.keras.optimizers.Adam(learning_rate=0.001),\n",
    "    loss=keras.losses.MeanAbsoluteError(),\n",
    "    metrics=keras.metrics.MeanAbsoluteError()\n",
    ")\n",
    "load_model.load_weights(f\"../models/230924/bidmc/DilatedResNet/DilatedResNet-bidmc-KF5/ckpt\")"
   ]
  },
  {
   "cell_type": "code",
   "execution_count": 182,
   "metadata": {},
   "outputs": [
    {
     "data": {
      "text/plain": [
       "((7, 2), (100, 2), (13, 2))"
      ]
     },
     "execution_count": 182,
     "metadata": {},
     "output_type": "execute_result"
    }
   ],
   "source": [
    "test_dat = np.load('../dataset/test_dataset/bidmc-test_dataset.npy', allow_pickle=True)\n",
    "test_dat2 = np.load('../dataset/230920/stmary-preprocessed.npy', allow_pickle=True)\n",
    "test_dat3 = np.load('../dataset/test_dataset/capno-preprocessed.npy', allow_pickle=True)\n",
    "test_dat.shape, test_dat2.shape, test_dat3.shape"
   ]
  },
  {
   "cell_type": "code",
   "execution_count": 187,
   "metadata": {},
   "outputs": [
    {
     "data": {
      "text/plain": [
       "((6508, 1800, 1), (6508, 1))"
      ]
     },
     "execution_count": 187,
     "metadata": {},
     "output_type": "execute_result"
    }
   ],
   "source": [
    "rapid, normal, slow = get_resp_class(test_dat2)\n",
    "test_dat = np.concatenate([rapid, normal, slow],axis=0)\n",
    "X_test, y_test = get_trainable_X(test_dat), test_dat[:, 1].reshape(-1,1)\n",
    "X_test.shape, y_test.shape"
   ]
  },
  {
   "cell_type": "code",
   "execution_count": 188,
   "metadata": {},
   "outputs": [
    {
     "name": "stdout",
     "output_type": "stream",
     "text": [
      "204/204 [==============================] - 2s 10ms/step\n"
     ]
    }
   ],
   "source": [
    "error = get_predict_performance(load_model, X_test, y_test)\n",
    "abs_err = np.abs(error)"
   ]
  },
  {
   "cell_type": "code",
   "execution_count": 189,
   "metadata": {},
   "outputs": [
    {
     "name": "stdout",
     "output_type": "stream",
     "text": [
      "4.3177 ± 3.3040\n"
     ]
    }
   ],
   "source": [
    "print(f'{np.mean(np.abs(error)):.4f} ± {np.std(np.abs(error)):.4f}')"
   ]
  },
  {
   "cell_type": "code",
   "execution_count": 190,
   "metadata": {},
   "outputs": [
    {
     "name": "stdout",
     "output_type": "stream",
     "text": [
      "0.629379225568531\n"
     ]
    }
   ],
   "source": [
    "print(len(abs_err[np.where(abs_err <= 5)])/len(abs_err))"
   ]
  },
  {
   "cell_type": "code",
   "execution_count": null,
   "metadata": {},
   "outputs": [],
   "source": [
    "pred_resp = load_model.predict(test_pleth)\n",
    "pred_resp.shape"
   ]
  },
  {
   "cell_type": "code",
   "execution_count": 95,
   "metadata": {},
   "outputs": [
    {
     "data": {
      "text/plain": [
       "(2947, 2)"
      ]
     },
     "execution_count": 95,
     "metadata": {},
     "output_type": "execute_result"
    }
   ],
   "source": [
    "test_dataset = []\n",
    "for test in test_dat:\n",
    "    test_dataset.append(test[1])\n",
    "\n",
    "test_dataset = np.concatenate(test_dataset, axis=0)\n",
    "test_dataset.shape"
   ]
  },
  {
   "cell_type": "code",
   "execution_count": 156,
   "metadata": {},
   "outputs": [
    {
     "data": {
      "text/plain": [
       "(6508, 2)"
      ]
     },
     "execution_count": 156,
     "metadata": {},
     "output_type": "execute_result"
    }
   ],
   "source": [
    "test_dataset = []\n",
    "for test in test_dat2:\n",
    "    test_dataset.append(test[1])\n",
    "\n",
    "test_dataset = np.concatenate(test_dataset, axis=0)\n",
    "test_dataset.shape"
   ]
  },
  {
   "cell_type": "code",
   "execution_count": 132,
   "metadata": {},
   "outputs": [
    {
     "data": {
      "text/plain": [
       "(5473, 2)"
      ]
     },
     "execution_count": 132,
     "metadata": {},
     "output_type": "execute_result"
    }
   ],
   "source": [
    "test_dataset = []\n",
    "for test in test_dat3:\n",
    "    test_dataset.append(test[1])\n",
    "\n",
    "test_dataset = np.concatenate(test_dataset, axis=0)\n",
    "test_dataset.shape"
   ]
  },
  {
   "cell_type": "code",
   "execution_count": 157,
   "metadata": {},
   "outputs": [
    {
     "name": "stdout",
     "output_type": "stream",
     "text": [
      "Overall: (6508, 1800, 1), (6508, 1)\n"
     ]
    }
   ],
   "source": [
    "test_tf = gen_tfdataset(test_dataset, 256)"
   ]
  },
  {
   "cell_type": "code",
   "execution_count": 147,
   "metadata": {},
   "outputs": [],
   "source": [
    "test_pleth = []; test_resp = []\n",
    "for t in test_dataset:\n",
    "    test_pleth.append(t[0])\n",
    "    test_resp.append(t[1])"
   ]
  },
  {
   "cell_type": "code",
   "execution_count": 159,
   "metadata": {},
   "outputs": [
    {
     "data": {
      "text/plain": [
       "((6508, 1, 1), (6508, 1))"
      ]
     },
     "execution_count": 159,
     "metadata": {},
     "output_type": "execute_result"
    }
   ],
   "source": [
    "# test_pleth = np.expand_dims(np.vstack(test_pleth), axis=-1)\n",
    "test_pleth = get_trainable_X(test_pleth)\n",
    "test_resp = np.array(test_resp).reshape(-1,1)\n",
    "test_pleth.shape, test_resp.shape"
   ]
  },
  {
   "cell_type": "code",
   "execution_count": 149,
   "metadata": {},
   "outputs": [
    {
     "name": "stdout",
     "output_type": "stream",
     "text": [
      "204/204 [==============================] - 3s 11ms/step\n"
     ]
    },
    {
     "data": {
      "text/plain": [
       "(6508, 1)"
      ]
     },
     "execution_count": 149,
     "metadata": {},
     "output_type": "execute_result"
    }
   ],
   "source": [
    "pred_resp = load_model.predict(test_pleth)\n",
    "pred_resp.shape"
   ]
  },
  {
   "cell_type": "code",
   "execution_count": 150,
   "metadata": {},
   "outputs": [
    {
     "name": "stdout",
     "output_type": "stream",
     "text": [
      "26/26 [==============================] - 1s 32ms/step - loss: 3.6948 - mean_absolute_error: 3.6948\n"
     ]
    },
    {
     "data": {
      "text/plain": [
       "[3.694826126098633, 3.694826126098633]"
      ]
     },
     "execution_count": 150,
     "metadata": {},
     "output_type": "execute_result"
    }
   ],
   "source": [
    "load_model.evaluate(test_tf)"
   ]
  },
  {
   "cell_type": "code",
   "execution_count": 151,
   "metadata": {},
   "outputs": [
    {
     "data": {
      "text/plain": [
       "(13897.880895510289, 11752.510942786328)"
      ]
     },
     "execution_count": 151,
     "metadata": {},
     "output_type": "execute_result"
    }
   ],
   "source": [
    "np.mean(np.abs(test_resp - pred_resp)), np.std(np.abs(test_resp - pred_resp))"
   ]
  },
  {
   "cell_type": "code",
   "execution_count": 152,
   "metadata": {},
   "outputs": [],
   "source": [
    "error = np.abs(test_resp - pred_resp)"
   ]
  },
  {
   "cell_type": "code",
   "execution_count": 153,
   "metadata": {},
   "outputs": [
    {
     "name": "stdout",
     "output_type": "stream",
     "text": [
      "0.0\n"
     ]
    }
   ],
   "source": [
    "print(len(error[np.where(error <= 5)])/len(error))"
   ]
  },
  {
   "cell_type": "code",
   "execution_count": null,
   "metadata": {},
   "outputs": [],
   "source": []
  }
 ],
 "metadata": {
  "kernelspec": {
   "display_name": "Python 3",
   "language": "python",
   "name": "python3"
  },
  "language_info": {
   "codemirror_mode": {
    "name": "ipython",
    "version": 3
   },
   "file_extension": ".py",
   "mimetype": "text/x-python",
   "name": "python",
   "nbconvert_exporter": "python",
   "pygments_lexer": "ipython3",
   "version": "3.10.12"
  },
  "orig_nbformat": 4
 },
 "nbformat": 4,
 "nbformat_minor": 2
}
