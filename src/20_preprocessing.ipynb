{
 "cells": [
  {
   "attachments": {},
   "cell_type": "markdown",
   "metadata": {},
   "source": [
    "# Preprocessing Dataset\n",
    "\n",
    "데이터를 모델에 넣기 전에 먼저 신호에 대해 전처리 작업을 해줄 필요가 있다.\n",
    "\n",
    "**1. Noise Filtering**\n",
    "- PPG는 0.5-8.0Hz 사이의 주파수를 가지는 광신호이다. 그러므로 이를 cutoff로 하여서 BPF를 걸어주는 것을 고려할 필요가 있다.\n",
    "- `Analysis: An optimal filter for short photoplethysmogram signals` 라는 논문에서는 `4th order Chebyshev II filter`가 단기 PPG에서 제일 좋은 성능을 보인다고 설명하고 있다.\n",
    "- `Evaluation of Different Machine Learning Models for Photoplethysmogram Signal Artifact Detection` 라는 논문에서는 `Equiripple FIR filter`를 이용해서 필터링을 수행하였다.\n",
    "\n",
    "**2. (optional) Resampling**\n",
    "- 이는 선택사항이다. 데이터의 연산량을 줄이면서 좋은 결과를 낼 수 있는 수준이 어느 정도인지 확인할 수 있다.\n",
    "\n",
    "**3. Windowing**\n",
    "- 전체 신호에 대해서 필터링이 입혀졌다면 해당 신호를 일정 간격으로 잘라낸다. 분당 호흡수에 대응시킬 것이므로 1분 PPG를 분당 호흡수와 묶으면 되겠다.\n",
    "- 본 신호의 양끝 경계 지점의 정보도 활용하기 위해 Overlap 을 고려한다.\n",
    "\n",
    "**4. (optional) Signal Quality Indexing**\n",
    "- 이는 선택사항이다. 구하여 낸 샘플들 중에서 샘플의 품질이 떨어지는 것을 임의의 기준으로 걸러낸다."
   ]
  },
  {
   "cell_type": "code",
   "execution_count": null,
   "metadata": {},
   "outputs": [],
   "source": []
  }
 ],
 "metadata": {
  "kernelspec": {
   "display_name": "Python 3",
   "language": "python",
   "name": "python3"
  },
  "language_info": {
   "name": "python",
   "version": "3.10.6"
  },
  "orig_nbformat": 4,
  "vscode": {
   "interpreter": {
    "hash": "31f2aee4e71d21fbe5cf8b01ff0e069b9275f58929596ceb00d14d90e3e16cd6"
   }
  }
 },
 "nbformat": 4,
 "nbformat_minor": 2
}
