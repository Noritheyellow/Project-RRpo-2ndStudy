{
 "cells": [
  {
   "attachments": {},
   "cell_type": "markdown",
   "metadata": {},
   "source": [
    "# Modeling"
   ]
  },
  {
   "cell_type": "code",
   "execution_count": 1,
   "metadata": {},
   "outputs": [],
   "source": [
    "import gzip\n",
    "import pickle\n",
    "import random\n",
    "import warnings\n",
    "import numpy as np\n",
    "import matplotlib.pyplot as plt\n",
    "# warnings.filterwarnings(action='ignore')\n",
    "%matplotlib inline\n",
    "plt.style.use('ggplot')\n",
    "\n",
    "DATA_PATH = '/root/Workspace/DataWarehouse/stMary_RRpo'"
   ]
  },
  {
   "cell_type": "code",
   "execution_count": 2,
   "metadata": {},
   "outputs": [
    {
     "name": "stdout",
     "output_type": "stream",
     "text": [
      "6508 1800\n",
      "(6508, 1800) (6508,)\n"
     ]
    }
   ],
   "source": [
    "with gzip.open(f'{DATA_PATH}/21_230518_resamp_sliced125_filt_patient_stmary.pickle.gzip', 'rb') as f:\n",
    "    dataset = pickle.load(f)\n",
    "\n",
    "print(len(dataset), len(dataset[0][0]))\n",
    "\n",
    "random.seed(42)\n",
    "random.shuffle(dataset)\n",
    "\n",
    "pleths = []\n",
    "resps = []\n",
    "for ppg, rr in dataset:\n",
    "    pleths.append(ppg.astype(np.float64))\n",
    "    resps.append(rr)\n",
    "\n",
    "pleths = np.asarray(pleths)\n",
    "resps = np.asarray(resps)\n",
    "print(pleths.shape, resps.shape)"
   ]
  },
  {
   "attachments": {},
   "cell_type": "markdown",
   "metadata": {},
   "source": [
    "## Normalization"
   ]
  },
  {
   "cell_type": "code",
   "execution_count": 3,
   "metadata": {},
   "outputs": [],
   "source": [
    "from sklearn.model_selection import KFold\n",
    "from sklearn.preprocessing import MinMaxScaler"
   ]
  },
  {
   "cell_type": "code",
   "execution_count": 4,
   "metadata": {},
   "outputs": [
    {
     "name": "stdout",
     "output_type": "stream",
     "text": [
      "(6508, 1800, 1) <class 'numpy.float64'>\n",
      "(5206, 1800, 1) (5206,)\n",
      "(1302, 1800, 1) (1302,)\n"
     ]
    }
   ],
   "source": [
    "scaler = MinMaxScaler()\n",
    "scaled_pleths = np.asarray([scaler.fit_transform(pleth.reshape(-1,1)) for pleth in pleths])\n",
    "print(scaled_pleths.shape, type(scaled_pleths[0][0][0]))\n",
    "\n",
    "ratio_tr = 0.8\n",
    "train_x, train_y = scaled_pleths[:int(len(scaled_pleths)*ratio_tr)], resps[:int(len(resps)*ratio_tr)]\n",
    "val_x, val_y = scaled_pleths[int(len(scaled_pleths)*ratio_tr):], resps[int(len(resps)*ratio_tr):]\n",
    "print(train_x.shape, train_y.shape)\n",
    "print(val_x.shape, val_y.shape)"
   ]
  },
  {
   "attachments": {},
   "cell_type": "markdown",
   "metadata": {},
   "source": [
    "## Architecture: ResNet 34 Layer\n",
    "\n",
    "- ResNet 모델 구조는 [논문](https://arxiv.org/pdf/1512.03385.pdf)을 참고하였다. 다만 해당 논문은 ImageNet의 데이터를 실행시키기 위한 것으로 조금의 조정이 필요한데 이를 변경하였을 때 그 내용을 논문에 기재할 필요가 있는지 의문이다.\n",
    "- 또는 만약 기재해야 한다면 내가 전부터 참고했던 [Bian의 논문](https://ieeexplore.ieee.org/document/9176231)을 참고해도 될 것 같다."
   ]
  },
  {
   "cell_type": "code",
   "execution_count": 5,
   "metadata": {},
   "outputs": [
    {
     "name": "stderr",
     "output_type": "stream",
     "text": [
      "2023-05-25 11:01:14.033905: I tensorflow/core/util/port.cc:110] oneDNN custom operations are on. You may see slightly different numerical results due to floating-point round-off errors from different computation orders. To turn them off, set the environment variable `TF_ENABLE_ONEDNN_OPTS=0`.\n",
      "2023-05-25 11:01:14.075017: I tensorflow/core/platform/cpu_feature_guard.cc:182] This TensorFlow binary is optimized to use available CPU instructions in performance-critical operations.\n",
      "To enable the following instructions: AVX2 AVX512F AVX512_VNNI FMA, in other operations, rebuild TensorFlow with the appropriate compiler flags.\n",
      "2023-05-25 11:01:14.731097: W tensorflow/compiler/tf2tensorrt/utils/py_utils.cc:38] TF-TRT Warning: Could not find TensorRT\n"
     ]
    },
    {
     "name": "stdout",
     "output_type": "stream",
     "text": [
      "Is GPU Avaliable: [PhysicalDevice(name='/physical_device:GPU:0', device_type='GPU')]\n"
     ]
    }
   ],
   "source": [
    "import os\n",
    "import keras\n",
    "import tensorflow as tf\n",
    "from keras.models import Model\n",
    "from keras.callbacks import EarlyStopping, ModelCheckpoint, ReduceLROnPlateau\n",
    "from keras.layers import Conv1D, MaxPooling1D, AveragePooling1D, Dense, BatchNormalization, Activation, Add, Flatten, Dropout\n",
    "print(f'Is GPU Avaliable: {tf.config.list_physical_devices(\"GPU\")}')\n",
    "os.environ['TF_CPP_MIN_LOG_LEVEL'] = '3'"
   ]
  },
  {
   "cell_type": "code",
   "execution_count": 12,
   "metadata": {},
   "outputs": [],
   "source": [
    "class ResidualBlock(Model):\n",
    "    def __init__(self, filters, kernel_size, strides, identity_mapping=None, *args, **kwargs):\n",
    "        super(ResidualBlock, self).__init__(*args, **kwargs)\n",
    "        self.conv1 = Conv1D(filters=filters, kernel_size=kernel_size, strides=strides[0], padding='same', kernel_initializer='HeUniform')\n",
    "        self.bn1 = BatchNormalization()\n",
    "\n",
    "        self.conv2 = Conv1D(filters=filters, kernel_size=kernel_size, strides=strides[1], padding='same', kernel_initializer='HeUniform')\n",
    "        self.bn2 = BatchNormalization()\n",
    "\n",
    "        self.identity_mapping = identity_mapping\n",
    "        self.conv_identity = Conv1D(filters=filters, kernel_size=1, strides=strides[0], padding='same', kernel_initializer='HeUniform')\n",
    "        \n",
    "\n",
    "    def call(self, inputs, training=None, mask=None):\n",
    "        identity = inputs\n",
    "        x = self.conv1(inputs)\n",
    "        x = self.bn1(x, training=training)\n",
    "        x = Activation('relu')(x)\n",
    "        x = self.conv2(x)\n",
    "        x = self.bn2(x, training=training)\n",
    "\n",
    "        # 448, 64 / 224, 128\n",
    "        if self.identity_mapping:\n",
    "            identity = self.conv_identity(inputs)\n",
    "            # print(inputs.shape, identity.shape)\n",
    "\n",
    "        x = Add()([x, identity])\n",
    "        return Activation('relu')(x)"
   ]
  },
  {
   "cell_type": "code",
   "execution_count": 13,
   "metadata": {},
   "outputs": [],
   "source": [
    "class ResNet34(Model):\n",
    "    def __init__(self, *args, **kwargs):\n",
    "        super(ResNet34, self).__init__(*args, **kwargs)\n",
    "        # self.conv1 = Conv1D(filters=64, kernel_size=7, strides=2)\n",
    "        # self.max1d = MaxPooling1D(pool_size=3, strides=2)\n",
    "        self.resnet_block1 = [ResidualBlock(64, 3, (1,1)) for i in range(3)]\n",
    "        \n",
    "        self.resnet_block2_entry = ResidualBlock(128, 3, (2,1), identity_mapping=True)\n",
    "        self.resnet_block2 = [ResidualBlock(128, 3, (1,1)) for i in range(3)]\n",
    "\n",
    "        self.resnet_block3_entry = ResidualBlock(256, 3, (2,1), identity_mapping=True)\n",
    "        self.resnet_block3 = [ResidualBlock(256, 3, (1,1)) for i in range(5)]\n",
    "\n",
    "        self.resnet_block4_entry = ResidualBlock(512, 3, (2,1), identity_mapping=True)\n",
    "        self.resnet_block4 = [ResidualBlock(512, 3, (1,1)) for i in range(2)]\n",
    "\n",
    "        self.avg1d = AveragePooling1D(pool_size=2, strides=2, padding='same')\n",
    "        self.max1d = MaxPooling1D(pool_size=3, strides=2, padding='same')\n",
    "        self.flatten = Flatten()\n",
    "        self.d100 = Dense(100, activation='relu')\n",
    "        self.d50 = Dense(50, activation='relu')\n",
    "        self.d10 = Dense(10, activation='relu')\n",
    "        self.d1 = Dense(1)\n",
    "\n",
    "    \n",
    "    def call(self, inputs, training=None, mask=None):\n",
    "        # x = self.conv1(inputs)\n",
    "        # x = self.max1d(x)\n",
    "\n",
    "        x = inputs\n",
    "        for block in self.resnet_block1:\n",
    "            x = block(x, training=training)\n",
    "\n",
    "        x = self.resnet_block2_entry(x, training=training)\n",
    "        for block in self.resnet_block2:\n",
    "            x = block(x, training=training)\n",
    "\n",
    "        x = self.resnet_block3_entry(x, training=training)\n",
    "        for block in self.resnet_block3:\n",
    "            x = block(x, training=training)\n",
    "        \n",
    "        x = self.resnet_block4_entry(x, training=training)\n",
    "        for block in self.resnet_block4:\n",
    "            x = block(x, training=training)\n",
    "        \n",
    "        \n",
    "        x = self.avg1d(x)\n",
    "        x = self.flatten(x)\n",
    "        x = self.d100(x)\n",
    "        x = self.d50(x)\n",
    "        x = self.d10(x)\n",
    "        return self.d1(x)\n",
    "    \n",
    "    @tf.function\n",
    "    def train_step(self, data):\n",
    "        x, y = data\n",
    "\n",
    "        with tf.GradientTape() as tape:\n",
    "            y_pred = self(x, training=True)\n",
    "            loss = self.compiled_loss(y, y_pred)\n",
    "\n",
    "        gradients = tape.gradient(loss, self.trainable_variables)\n",
    "        self.optimizer.apply_gradients(zip(gradients, self.trainable_variables))\n",
    "        self.compiled_metrics.update_state(y, y_pred)\n",
    "\n",
    "        return {m.name: m.result() for m in self.metrics}\n",
    "    \n",
    "    @tf.function\n",
    "    def test_step(self, data):\n",
    "        x, y = data\n",
    "\n",
    "        y_pred = self(x, training=False)\n",
    "        self.compiled_loss(y, y_pred)\n",
    "        self.compiled_metrics.update_state(y, y_pred)\n",
    "        return {m.name: m.result() for m in self.metrics}"
   ]
  },
  {
   "cell_type": "code",
   "execution_count": 6,
   "metadata": {},
   "outputs": [
    {
     "ename": "NameError",
     "evalue": "name 'ResNet34' is not defined",
     "output_type": "error",
     "traceback": [
      "\u001b[0;31m---------------------------------------------------------------------------\u001b[0m",
      "\u001b[0;31mNameError\u001b[0m                                 Traceback (most recent call last)",
      "Cell \u001b[0;32mIn[6], line 11\u001b[0m\n\u001b[1;32m      4\u001b[0m kf \u001b[39m=\u001b[39m KFold(n_splits\u001b[39m=\u001b[39m\u001b[39m5\u001b[39m)\n\u001b[1;32m      5\u001b[0m callbacks \u001b[39m=\u001b[39m [\n\u001b[1;32m      6\u001b[0m     EarlyStopping(monitor\u001b[39m=\u001b[39m\u001b[39m'\u001b[39m\u001b[39mval_loss\u001b[39m\u001b[39m'\u001b[39m, patience\u001b[39m=\u001b[39m\u001b[39m15\u001b[39m),\n\u001b[1;32m      7\u001b[0m     ReduceLROnPlateau(monitor\u001b[39m=\u001b[39m\u001b[39m'\u001b[39m\u001b[39mval_loss\u001b[39m\u001b[39m'\u001b[39m, factor\u001b[39m=\u001b[39m\u001b[39m0.1\u001b[39m, patience\u001b[39m=\u001b[39m\u001b[39m5\u001b[39m),\n\u001b[1;32m      8\u001b[0m     \u001b[39m# ModelCheckpoint('../models/230522-Resnet', monitor='val_loss', save_best_only=True)\u001b[39;00m\n\u001b[1;32m      9\u001b[0m ]\n\u001b[0;32m---> 11\u001b[0m model \u001b[39m=\u001b[39m ResNet34()\n\u001b[1;32m     12\u001b[0m model\u001b[39m.\u001b[39mcompile(\n\u001b[1;32m     13\u001b[0m     optimizer\u001b[39m=\u001b[39mtf\u001b[39m.\u001b[39mkeras\u001b[39m.\u001b[39moptimizers\u001b[39m.\u001b[39mSGD(learning_rate\u001b[39m=\u001b[39mLR, momentum\u001b[39m=\u001b[39m\u001b[39m0.9\u001b[39m, weight_decay\u001b[39m=\u001b[39m\u001b[39m0.0001\u001b[39m),\n\u001b[1;32m     14\u001b[0m     loss\u001b[39m=\u001b[39mkeras\u001b[39m.\u001b[39mlosses\u001b[39m.\u001b[39mMeanAbsoluteError(),\n\u001b[1;32m     15\u001b[0m     metrics\u001b[39m=\u001b[39mkeras\u001b[39m.\u001b[39mmetrics\u001b[39m.\u001b[39mMeanAbsoluteError()\n\u001b[1;32m     16\u001b[0m )\n",
      "\u001b[0;31mNameError\u001b[0m: name 'ResNet34' is not defined"
     ]
    }
   ],
   "source": [
    "EPOCHS = 1000\n",
    "BATCH_SIZE = 256\n",
    "LR = 0.001\n",
    "kf = KFold(n_splits=5)\n",
    "callbacks = [\n",
    "    EarlyStopping(monitor='val_loss', patience=15),\n",
    "    ReduceLROnPlateau(monitor='val_loss', factor=0.1, patience=5),\n",
    "    # ModelCheckpoint('../models/230522-Resnet', monitor='val_loss', save_best_only=True)\n",
    "]\n",
    "\n",
    "model = ResNet34()\n",
    "model.compile(\n",
    "    optimizer=tf.keras.optimizers.SGD(learning_rate=LR, momentum=0.9, weight_decay=0.0001),\n",
    "    loss=keras.losses.MeanAbsoluteError(),\n",
    "    metrics=keras.metrics.MeanAbsoluteError()\n",
    ")"
   ]
  },
  {
   "cell_type": "code",
   "execution_count": 7,
   "metadata": {},
   "outputs": [
    {
     "name": "stderr",
     "output_type": "stream",
     "text": [
      "2023-05-25 11:01:33.595992: I tensorflow/core/common_runtime/gpu/gpu_device.cc:1635] Created device /job:localhost/replica:0/task:0/device:GPU:0 with 14369 MB memory:  -> device: 0, name: Quadro RTX 5000, pci bus id: 0000:73:00.0, compute capability: 7.5\n"
     ]
    }
   ],
   "source": [
    "train_dataset = tf.data.Dataset.from_tensor_slices((train_x, train_y)).batch(BATCH_SIZE)\n",
    "val_dataset = tf.data.Dataset.from_tensor_slices((val_x, val_y)).batch(BATCH_SIZE)"
   ]
  },
  {
   "cell_type": "code",
   "execution_count": 15,
   "metadata": {},
   "outputs": [
    {
     "name": "stdout",
     "output_type": "stream",
     "text": [
      "Epoch 1/1000\n"
     ]
    },
    {
     "name": "stderr",
     "output_type": "stream",
     "text": [
      "2023-05-24 13:51:58.136551: I tensorflow/core/common_runtime/executor.cc:1197] [/device:CPU:0] (DEBUG INFO) Executor start aborting (this does not indicate an error and you can ignore this message): INVALID_ARGUMENT: You must feed a value for placeholder tensor 'Placeholder/_1' with dtype int64 and shape [5206]\n",
      "\t [[{{node Placeholder/_1}}]]\n"
     ]
    },
    {
     "name": "stdout",
     "output_type": "stream",
     "text": [
      "21/21 [==============================] - ETA: 0s - loss: 20.5604 - mean_absolute_error: 20.5604"
     ]
    },
    {
     "name": "stderr",
     "output_type": "stream",
     "text": [
      "2023-05-24 13:52:30.940599: I tensorflow/core/common_runtime/executor.cc:1197] [/device:CPU:0] (DEBUG INFO) Executor start aborting (this does not indicate an error and you can ignore this message): INVALID_ARGUMENT: You must feed a value for placeholder tensor 'Placeholder/_1' with dtype int64 and shape [1302]\n",
      "\t [[{{node Placeholder/_1}}]]\n"
     ]
    },
    {
     "name": "stdout",
     "output_type": "stream",
     "text": [
      "21/21 [==============================] - 35s 1s/step - loss: 20.5604 - mean_absolute_error: 20.5604 - val_loss: 239.7426 - val_mean_absolute_error: 239.7426 - lr: 0.0010\n",
      "Epoch 2/1000\n",
      "21/21 [==============================] - 22s 1s/step - loss: 5.0804 - mean_absolute_error: 5.0804 - val_loss: 81.3533 - val_mean_absolute_error: 81.3533 - lr: 0.0010\n",
      "Epoch 3/1000\n",
      "21/21 [==============================] - 22s 1s/step - loss: 3.5636 - mean_absolute_error: 3.5636 - val_loss: 32.2890 - val_mean_absolute_error: 32.2890 - lr: 0.0010\n",
      "Epoch 4/1000\n",
      "21/21 [==============================] - 22s 1s/step - loss: 3.4099 - mean_absolute_error: 3.4099 - val_loss: 15.7346 - val_mean_absolute_error: 15.7346 - lr: 0.0010\n",
      "Epoch 5/1000\n",
      "21/21 [==============================] - 22s 1s/step - loss: 1.9273 - mean_absolute_error: 1.9273 - val_loss: 12.1972 - val_mean_absolute_error: 12.1972 - lr: 0.0010\n",
      "Epoch 6/1000\n",
      "21/21 [==============================] - 22s 1s/step - loss: 2.5761 - mean_absolute_error: 2.5761 - val_loss: 13.9455 - val_mean_absolute_error: 13.9455 - lr: 0.0010\n",
      "Epoch 7/1000\n",
      "21/21 [==============================] - 22s 1s/step - loss: 4.8633 - mean_absolute_error: 4.8633 - val_loss: 6.5904 - val_mean_absolute_error: 6.5904 - lr: 0.0010\n",
      "Epoch 8/1000\n",
      "21/21 [==============================] - 22s 1s/step - loss: 3.1928 - mean_absolute_error: 3.1928 - val_loss: 4.6580 - val_mean_absolute_error: 4.6580 - lr: 0.0010\n",
      "Epoch 9/1000\n",
      "21/21 [==============================] - 22s 1s/step - loss: 2.6394 - mean_absolute_error: 2.6394 - val_loss: 5.3729 - val_mean_absolute_error: 5.3729 - lr: 0.0010\n",
      "Epoch 10/1000\n",
      "21/21 [==============================] - 22s 1s/step - loss: 1.2885 - mean_absolute_error: 1.2885 - val_loss: 4.4342 - val_mean_absolute_error: 4.4342 - lr: 0.0010\n",
      "Epoch 11/1000\n",
      "21/21 [==============================] - 22s 1s/step - loss: 2.6739 - mean_absolute_error: 2.6739 - val_loss: 4.2690 - val_mean_absolute_error: 4.2690 - lr: 0.0010\n",
      "Epoch 12/1000\n",
      "21/21 [==============================] - 22s 1s/step - loss: 3.3765 - mean_absolute_error: 3.3765 - val_loss: 3.9411 - val_mean_absolute_error: 3.9411 - lr: 0.0010\n",
      "Epoch 13/1000\n",
      "21/21 [==============================] - 22s 1s/step - loss: 6.5592 - mean_absolute_error: 6.5592 - val_loss: 8.0726 - val_mean_absolute_error: 8.0726 - lr: 0.0010\n",
      "Epoch 14/1000\n",
      "21/21 [==============================] - 22s 1s/step - loss: 2.9294 - mean_absolute_error: 2.9294 - val_loss: 6.0277 - val_mean_absolute_error: 6.0277 - lr: 0.0010\n",
      "Epoch 15/1000\n",
      "21/21 [==============================] - 22s 1s/step - loss: 2.3741 - mean_absolute_error: 2.3741 - val_loss: 6.4834 - val_mean_absolute_error: 6.4834 - lr: 0.0010\n",
      "Epoch 16/1000\n",
      "21/21 [==============================] - 22s 1s/step - loss: 2.0869 - mean_absolute_error: 2.0869 - val_loss: 6.1884 - val_mean_absolute_error: 6.1884 - lr: 0.0010\n",
      "Epoch 17/1000\n",
      "21/21 [==============================] - 22s 1s/step - loss: 2.0689 - mean_absolute_error: 2.0689 - val_loss: 7.2717 - val_mean_absolute_error: 7.2717 - lr: 0.0010\n",
      "Epoch 18/1000\n",
      "21/21 [==============================] - 22s 1s/step - loss: 1.3273 - mean_absolute_error: 1.3273 - val_loss: 4.8321 - val_mean_absolute_error: 4.8321 - lr: 1.0000e-04\n",
      "Epoch 19/1000\n",
      "21/21 [==============================] - 22s 1s/step - loss: 0.7849 - mean_absolute_error: 0.7849 - val_loss: 4.0636 - val_mean_absolute_error: 4.0636 - lr: 1.0000e-04\n",
      "Epoch 20/1000\n",
      "21/21 [==============================] - 22s 1s/step - loss: 0.8037 - mean_absolute_error: 0.8037 - val_loss: 3.3833 - val_mean_absolute_error: 3.3833 - lr: 1.0000e-04\n",
      "Epoch 21/1000\n",
      "21/21 [==============================] - 22s 1s/step - loss: 0.8202 - mean_absolute_error: 0.8202 - val_loss: 2.9078 - val_mean_absolute_error: 2.9078 - lr: 1.0000e-04\n",
      "Epoch 22/1000\n",
      "21/21 [==============================] - 22s 1s/step - loss: 0.7788 - mean_absolute_error: 0.7788 - val_loss: 2.4334 - val_mean_absolute_error: 2.4334 - lr: 1.0000e-04\n",
      "Epoch 23/1000\n",
      "21/21 [==============================] - 22s 1s/step - loss: 0.9298 - mean_absolute_error: 0.9298 - val_loss: 1.9848 - val_mean_absolute_error: 1.9848 - lr: 1.0000e-04\n",
      "Epoch 24/1000\n",
      "21/21 [==============================] - 22s 1s/step - loss: 0.7947 - mean_absolute_error: 0.7947 - val_loss: 1.7562 - val_mean_absolute_error: 1.7562 - lr: 1.0000e-04\n",
      "Epoch 25/1000\n",
      "21/21 [==============================] - 22s 1s/step - loss: 0.9435 - mean_absolute_error: 0.9435 - val_loss: 1.4542 - val_mean_absolute_error: 1.4542 - lr: 1.0000e-04\n",
      "Epoch 26/1000\n",
      "21/21 [==============================] - 22s 1s/step - loss: 0.7800 - mean_absolute_error: 0.7800 - val_loss: 1.3180 - val_mean_absolute_error: 1.3180 - lr: 1.0000e-04\n",
      "Epoch 27/1000\n",
      "21/21 [==============================] - 22s 1s/step - loss: 0.9605 - mean_absolute_error: 0.9605 - val_loss: 1.1829 - val_mean_absolute_error: 1.1829 - lr: 1.0000e-04\n",
      "Epoch 28/1000\n",
      "21/21 [==============================] - 22s 1s/step - loss: 0.7500 - mean_absolute_error: 0.7500 - val_loss: 1.0450 - val_mean_absolute_error: 1.0450 - lr: 1.0000e-04\n",
      "Epoch 29/1000\n",
      "21/21 [==============================] - 22s 1s/step - loss: 0.9941 - mean_absolute_error: 0.9941 - val_loss: 1.0845 - val_mean_absolute_error: 1.0845 - lr: 1.0000e-04\n",
      "Epoch 30/1000\n",
      "21/21 [==============================] - 22s 1s/step - loss: 0.9625 - mean_absolute_error: 0.9625 - val_loss: 0.9982 - val_mean_absolute_error: 0.9982 - lr: 1.0000e-04\n",
      "Epoch 31/1000\n",
      "21/21 [==============================] - 22s 1s/step - loss: 0.6855 - mean_absolute_error: 0.6855 - val_loss: 0.7986 - val_mean_absolute_error: 0.7986 - lr: 1.0000e-04\n",
      "Epoch 32/1000\n",
      "21/21 [==============================] - 22s 1s/step - loss: 0.8477 - mean_absolute_error: 0.8477 - val_loss: 0.9155 - val_mean_absolute_error: 0.9155 - lr: 1.0000e-04\n",
      "Epoch 33/1000\n",
      "21/21 [==============================] - 22s 1s/step - loss: 0.6434 - mean_absolute_error: 0.6434 - val_loss: 0.7138 - val_mean_absolute_error: 0.7138 - lr: 1.0000e-04\n",
      "Epoch 34/1000\n",
      "21/21 [==============================] - 22s 1s/step - loss: 0.8328 - mean_absolute_error: 0.8328 - val_loss: 0.8719 - val_mean_absolute_error: 0.8719 - lr: 1.0000e-04\n",
      "Epoch 35/1000\n",
      "21/21 [==============================] - 22s 1s/step - loss: 0.5924 - mean_absolute_error: 0.5924 - val_loss: 0.7775 - val_mean_absolute_error: 0.7775 - lr: 1.0000e-04\n",
      "Epoch 36/1000\n",
      "21/21 [==============================] - 22s 1s/step - loss: 0.9329 - mean_absolute_error: 0.9329 - val_loss: 0.9879 - val_mean_absolute_error: 0.9879 - lr: 1.0000e-04\n",
      "Epoch 37/1000\n",
      "21/21 [==============================] - 22s 1s/step - loss: 0.6499 - mean_absolute_error: 0.6499 - val_loss: 0.6348 - val_mean_absolute_error: 0.6348 - lr: 1.0000e-04\n",
      "Epoch 38/1000\n",
      "21/21 [==============================] - 22s 1s/step - loss: 0.7628 - mean_absolute_error: 0.7628 - val_loss: 0.8397 - val_mean_absolute_error: 0.8397 - lr: 1.0000e-04\n",
      "Epoch 39/1000\n",
      "21/21 [==============================] - 22s 1s/step - loss: 0.6394 - mean_absolute_error: 0.6394 - val_loss: 0.6383 - val_mean_absolute_error: 0.6383 - lr: 1.0000e-04\n",
      "Epoch 40/1000\n",
      "21/21 [==============================] - 22s 1s/step - loss: 0.7562 - mean_absolute_error: 0.7562 - val_loss: 0.7189 - val_mean_absolute_error: 0.7189 - lr: 1.0000e-04\n",
      "Epoch 41/1000\n",
      "21/21 [==============================] - 22s 1s/step - loss: 0.5113 - mean_absolute_error: 0.5113 - val_loss: 0.7849 - val_mean_absolute_error: 0.7849 - lr: 1.0000e-04\n",
      "Epoch 42/1000\n",
      "21/21 [==============================] - 22s 1s/step - loss: 0.8588 - mean_absolute_error: 0.8588 - val_loss: 0.9195 - val_mean_absolute_error: 0.9195 - lr: 1.0000e-04\n",
      "Epoch 43/1000\n",
      "21/21 [==============================] - 22s 1s/step - loss: 0.8939 - mean_absolute_error: 0.8939 - val_loss: 0.9078 - val_mean_absolute_error: 0.9078 - lr: 1.0000e-05\n",
      "Epoch 44/1000\n",
      "21/21 [==============================] - 22s 1s/step - loss: 0.4790 - mean_absolute_error: 0.4790 - val_loss: 0.7102 - val_mean_absolute_error: 0.7102 - lr: 1.0000e-05\n",
      "Epoch 45/1000\n",
      "21/21 [==============================] - 22s 1s/step - loss: 0.4642 - mean_absolute_error: 0.4642 - val_loss: 0.6302 - val_mean_absolute_error: 0.6302 - lr: 1.0000e-05\n",
      "Epoch 46/1000\n",
      "21/21 [==============================] - 22s 1s/step - loss: 0.4707 - mean_absolute_error: 0.4707 - val_loss: 0.6146 - val_mean_absolute_error: 0.6146 - lr: 1.0000e-05\n",
      "Epoch 47/1000\n",
      "21/21 [==============================] - 22s 1s/step - loss: 0.4732 - mean_absolute_error: 0.4732 - val_loss: 0.6102 - val_mean_absolute_error: 0.6102 - lr: 1.0000e-05\n",
      "Epoch 48/1000\n",
      "21/21 [==============================] - 22s 1s/step - loss: 0.4711 - mean_absolute_error: 0.4711 - val_loss: 0.6080 - val_mean_absolute_error: 0.6080 - lr: 1.0000e-05\n",
      "Epoch 49/1000\n",
      "21/21 [==============================] - 22s 1s/step - loss: 0.4668 - mean_absolute_error: 0.4668 - val_loss: 0.6078 - val_mean_absolute_error: 0.6078 - lr: 1.0000e-05\n",
      "Epoch 50/1000\n",
      "21/21 [==============================] - 22s 1s/step - loss: 0.4624 - mean_absolute_error: 0.4624 - val_loss: 0.6066 - val_mean_absolute_error: 0.6066 - lr: 1.0000e-05\n",
      "Epoch 51/1000\n",
      "21/21 [==============================] - 22s 1s/step - loss: 0.4586 - mean_absolute_error: 0.4586 - val_loss: 0.6059 - val_mean_absolute_error: 0.6059 - lr: 1.0000e-05\n",
      "Epoch 52/1000\n",
      "21/21 [==============================] - 22s 1s/step - loss: 0.4551 - mean_absolute_error: 0.4551 - val_loss: 0.6049 - val_mean_absolute_error: 0.6049 - lr: 1.0000e-05\n",
      "Epoch 53/1000\n",
      "21/21 [==============================] - 22s 1s/step - loss: 0.4524 - mean_absolute_error: 0.4524 - val_loss: 0.6048 - val_mean_absolute_error: 0.6048 - lr: 1.0000e-05\n",
      "Epoch 54/1000\n",
      "21/21 [==============================] - 22s 1s/step - loss: 0.4500 - mean_absolute_error: 0.4500 - val_loss: 0.6045 - val_mean_absolute_error: 0.6045 - lr: 1.0000e-05\n",
      "Epoch 55/1000\n",
      "21/21 [==============================] - 22s 1s/step - loss: 0.4465 - mean_absolute_error: 0.4465 - val_loss: 0.6025 - val_mean_absolute_error: 0.6025 - lr: 1.0000e-05\n",
      "Epoch 56/1000\n",
      "21/21 [==============================] - 22s 1s/step - loss: 0.4434 - mean_absolute_error: 0.4434 - val_loss: 0.6042 - val_mean_absolute_error: 0.6042 - lr: 1.0000e-05\n",
      "Epoch 57/1000\n",
      "21/21 [==============================] - 22s 1s/step - loss: 0.4411 - mean_absolute_error: 0.4411 - val_loss: 0.6019 - val_mean_absolute_error: 0.6019 - lr: 1.0000e-05\n",
      "Epoch 58/1000\n",
      "21/21 [==============================] - 22s 1s/step - loss: 0.4384 - mean_absolute_error: 0.4384 - val_loss: 0.6028 - val_mean_absolute_error: 0.6028 - lr: 1.0000e-05\n",
      "Epoch 59/1000\n",
      "21/21 [==============================] - 22s 1s/step - loss: 0.4367 - mean_absolute_error: 0.4367 - val_loss: 0.6022 - val_mean_absolute_error: 0.6022 - lr: 1.0000e-05\n",
      "Epoch 60/1000\n",
      "21/21 [==============================] - 22s 1s/step - loss: 0.4333 - mean_absolute_error: 0.4333 - val_loss: 0.6014 - val_mean_absolute_error: 0.6014 - lr: 1.0000e-05\n",
      "Epoch 61/1000\n",
      "21/21 [==============================] - 22s 1s/step - loss: 0.4308 - mean_absolute_error: 0.4308 - val_loss: 0.6034 - val_mean_absolute_error: 0.6034 - lr: 1.0000e-05\n",
      "Epoch 62/1000\n",
      "21/21 [==============================] - 22s 1s/step - loss: 0.4315 - mean_absolute_error: 0.4315 - val_loss: 0.6001 - val_mean_absolute_error: 0.6001 - lr: 1.0000e-05\n",
      "Epoch 63/1000\n",
      "21/21 [==============================] - 22s 1s/step - loss: 0.4250 - mean_absolute_error: 0.4250 - val_loss: 0.6020 - val_mean_absolute_error: 0.6020 - lr: 1.0000e-05\n",
      "Epoch 64/1000\n",
      "21/21 [==============================] - 22s 1s/step - loss: 0.4256 - mean_absolute_error: 0.4256 - val_loss: 0.6004 - val_mean_absolute_error: 0.6004 - lr: 1.0000e-05\n",
      "Epoch 65/1000\n",
      "21/21 [==============================] - 22s 1s/step - loss: 0.4228 - mean_absolute_error: 0.4228 - val_loss: 0.6002 - val_mean_absolute_error: 0.6002 - lr: 1.0000e-05\n",
      "Epoch 66/1000\n",
      "21/21 [==============================] - 22s 1s/step - loss: 0.4190 - mean_absolute_error: 0.4190 - val_loss: 0.5999 - val_mean_absolute_error: 0.5999 - lr: 1.0000e-05\n",
      "Epoch 67/1000\n",
      "21/21 [==============================] - 22s 1s/step - loss: 0.4170 - mean_absolute_error: 0.4170 - val_loss: 0.6021 - val_mean_absolute_error: 0.6021 - lr: 1.0000e-05\n",
      "Epoch 68/1000\n",
      "21/21 [==============================] - 22s 1s/step - loss: 0.4196 - mean_absolute_error: 0.4196 - val_loss: 0.5988 - val_mean_absolute_error: 0.5988 - lr: 1.0000e-05\n",
      "Epoch 69/1000\n",
      "21/21 [==============================] - 22s 1s/step - loss: 0.4142 - mean_absolute_error: 0.4142 - val_loss: 0.5997 - val_mean_absolute_error: 0.5997 - lr: 1.0000e-05\n",
      "Epoch 70/1000\n",
      "21/21 [==============================] - 22s 1s/step - loss: 0.4099 - mean_absolute_error: 0.4099 - val_loss: 0.6000 - val_mean_absolute_error: 0.6000 - lr: 1.0000e-05\n",
      "Epoch 71/1000\n",
      "21/21 [==============================] - 22s 1s/step - loss: 0.4107 - mean_absolute_error: 0.4107 - val_loss: 0.6010 - val_mean_absolute_error: 0.6010 - lr: 1.0000e-05\n",
      "Epoch 72/1000\n",
      "21/21 [==============================] - 22s 1s/step - loss: 0.4129 - mean_absolute_error: 0.4129 - val_loss: 0.5977 - val_mean_absolute_error: 0.5977 - lr: 1.0000e-05\n",
      "Epoch 73/1000\n",
      "21/21 [==============================] - 22s 1s/step - loss: 0.4050 - mean_absolute_error: 0.4050 - val_loss: 0.5993 - val_mean_absolute_error: 0.5993 - lr: 1.0000e-05\n",
      "Epoch 74/1000\n",
      "21/21 [==============================] - 22s 1s/step - loss: 0.4033 - mean_absolute_error: 0.4033 - val_loss: 0.5994 - val_mean_absolute_error: 0.5994 - lr: 1.0000e-05\n",
      "Epoch 75/1000\n",
      "21/21 [==============================] - 22s 1s/step - loss: 0.4041 - mean_absolute_error: 0.4041 - val_loss: 0.6002 - val_mean_absolute_error: 0.6002 - lr: 1.0000e-05\n",
      "Epoch 76/1000\n",
      "21/21 [==============================] - 22s 1s/step - loss: 0.4063 - mean_absolute_error: 0.4063 - val_loss: 0.5973 - val_mean_absolute_error: 0.5973 - lr: 1.0000e-05\n",
      "Epoch 77/1000\n",
      "21/21 [==============================] - 22s 1s/step - loss: 0.4007 - mean_absolute_error: 0.4007 - val_loss: 0.5973 - val_mean_absolute_error: 0.5973 - lr: 1.0000e-05\n",
      "Epoch 78/1000\n",
      "21/21 [==============================] - 22s 1s/step - loss: 0.3948 - mean_absolute_error: 0.3948 - val_loss: 0.5979 - val_mean_absolute_error: 0.5979 - lr: 1.0000e-05\n",
      "Epoch 79/1000\n",
      "21/21 [==============================] - 22s 1s/step - loss: 0.3936 - mean_absolute_error: 0.3936 - val_loss: 0.5996 - val_mean_absolute_error: 0.5996 - lr: 1.0000e-05\n",
      "Epoch 80/1000\n",
      "21/21 [==============================] - 22s 1s/step - loss: 0.3970 - mean_absolute_error: 0.3970 - val_loss: 0.5984 - val_mean_absolute_error: 0.5984 - lr: 1.0000e-05\n",
      "Epoch 81/1000\n",
      "21/21 [==============================] - 22s 1s/step - loss: 0.3976 - mean_absolute_error: 0.3976 - val_loss: 0.5978 - val_mean_absolute_error: 0.5978 - lr: 1.0000e-05\n",
      "Epoch 82/1000\n",
      "21/21 [==============================] - 22s 1s/step - loss: 0.3910 - mean_absolute_error: 0.3910 - val_loss: 0.5959 - val_mean_absolute_error: 0.5959 - lr: 1.0000e-06\n",
      "Epoch 83/1000\n",
      "21/21 [==============================] - 22s 1s/step - loss: 0.3777 - mean_absolute_error: 0.3777 - val_loss: 0.5985 - val_mean_absolute_error: 0.5985 - lr: 1.0000e-06\n",
      "Epoch 84/1000\n",
      "21/21 [==============================] - 22s 1s/step - loss: 0.3742 - mean_absolute_error: 0.3742 - val_loss: 0.5968 - val_mean_absolute_error: 0.5968 - lr: 1.0000e-06\n",
      "Epoch 85/1000\n",
      "21/21 [==============================] - 22s 1s/step - loss: 0.3744 - mean_absolute_error: 0.3744 - val_loss: 0.5964 - val_mean_absolute_error: 0.5964 - lr: 1.0000e-06\n",
      "Epoch 86/1000\n",
      "21/21 [==============================] - 22s 1s/step - loss: 0.3737 - mean_absolute_error: 0.3737 - val_loss: 0.5964 - val_mean_absolute_error: 0.5964 - lr: 1.0000e-06\n",
      "Epoch 87/1000\n",
      "21/21 [==============================] - 22s 1s/step - loss: 0.3734 - mean_absolute_error: 0.3734 - val_loss: 0.5961 - val_mean_absolute_error: 0.5961 - lr: 1.0000e-06\n",
      "Epoch 88/1000\n",
      "21/21 [==============================] - 22s 1s/step - loss: 0.3725 - mean_absolute_error: 0.3725 - val_loss: 0.5952 - val_mean_absolute_error: 0.5952 - lr: 1.0000e-07\n",
      "Epoch 89/1000\n",
      "21/21 [==============================] - 22s 1s/step - loss: 0.3728 - mean_absolute_error: 0.3728 - val_loss: 0.5953 - val_mean_absolute_error: 0.5953 - lr: 1.0000e-07\n",
      "Epoch 90/1000\n",
      "21/21 [==============================] - 22s 1s/step - loss: 0.3726 - mean_absolute_error: 0.3726 - val_loss: 0.5953 - val_mean_absolute_error: 0.5953 - lr: 1.0000e-07\n",
      "Epoch 91/1000\n",
      "21/21 [==============================] - 22s 1s/step - loss: 0.3723 - mean_absolute_error: 0.3723 - val_loss: 0.5954 - val_mean_absolute_error: 0.5954 - lr: 1.0000e-07\n",
      "Epoch 92/1000\n",
      "21/21 [==============================] - 22s 1s/step - loss: 0.3722 - mean_absolute_error: 0.3722 - val_loss: 0.5954 - val_mean_absolute_error: 0.5954 - lr: 1.0000e-07\n",
      "Epoch 93/1000\n",
      "21/21 [==============================] - 22s 1s/step - loss: 0.3720 - mean_absolute_error: 0.3720 - val_loss: 0.5954 - val_mean_absolute_error: 0.5954 - lr: 1.0000e-07\n",
      "Epoch 94/1000\n",
      "21/21 [==============================] - 22s 1s/step - loss: 0.3719 - mean_absolute_error: 0.3719 - val_loss: 0.5954 - val_mean_absolute_error: 0.5954 - lr: 1.0000e-08\n",
      "Epoch 95/1000\n",
      "21/21 [==============================] - 22s 1s/step - loss: 0.3719 - mean_absolute_error: 0.3719 - val_loss: 0.5954 - val_mean_absolute_error: 0.5954 - lr: 1.0000e-08\n",
      "Epoch 96/1000\n",
      "21/21 [==============================] - 22s 1s/step - loss: 0.3719 - mean_absolute_error: 0.3719 - val_loss: 0.5954 - val_mean_absolute_error: 0.5954 - lr: 1.0000e-08\n",
      "Epoch 97/1000\n",
      "21/21 [==============================] - 22s 1s/step - loss: 0.3719 - mean_absolute_error: 0.3719 - val_loss: 0.5954 - val_mean_absolute_error: 0.5954 - lr: 1.0000e-08\n",
      "Epoch 98/1000\n",
      "21/21 [==============================] - 22s 1s/step - loss: 0.3719 - mean_absolute_error: 0.3719 - val_loss: 0.5954 - val_mean_absolute_error: 0.5954 - lr: 1.0000e-08\n",
      "Epoch 99/1000\n",
      "21/21 [==============================] - 22s 1s/step - loss: 0.3719 - mean_absolute_error: 0.3719 - val_loss: 0.5954 - val_mean_absolute_error: 0.5954 - lr: 1.0000e-09\n",
      "Epoch 100/1000\n",
      "21/21 [==============================] - 22s 1s/step - loss: 0.3719 - mean_absolute_error: 0.3719 - val_loss: 0.5954 - val_mean_absolute_error: 0.5954 - lr: 1.0000e-09\n",
      "Epoch 101/1000\n",
      "21/21 [==============================] - 22s 1s/step - loss: 0.3719 - mean_absolute_error: 0.3719 - val_loss: 0.5954 - val_mean_absolute_error: 0.5954 - lr: 1.0000e-09\n",
      "Epoch 102/1000\n",
      "21/21 [==============================] - 22s 1s/step - loss: 0.3719 - mean_absolute_error: 0.3719 - val_loss: 0.5954 - val_mean_absolute_error: 0.5954 - lr: 1.0000e-09\n",
      "Epoch 103/1000\n",
      "21/21 [==============================] - 22s 1s/step - loss: 0.3719 - mean_absolute_error: 0.3719 - val_loss: 0.5954 - val_mean_absolute_error: 0.5954 - lr: 1.0000e-09\n"
     ]
    }
   ],
   "source": [
    "with tf.device('/GPU:0'):\n",
    "    history = model.fit(\n",
    "        train_dataset,\n",
    "        epochs=EPOCHS,\n",
    "        callbacks=callbacks,\n",
    "        validation_data=val_dataset\n",
    "    )"
   ]
  },
  {
   "cell_type": "code",
   "execution_count": 16,
   "metadata": {},
   "outputs": [
    {
     "data": {
      "text/plain": [
       "0.5952494144439697"
      ]
     },
     "execution_count": 16,
     "metadata": {},
     "output_type": "execute_result"
    }
   ],
   "source": [
    "min(history.history['val_loss'])"
   ]
  },
  {
   "attachments": {},
   "cell_type": "markdown",
   "metadata": {},
   "source": [
    "## Load model"
   ]
  },
  {
   "cell_type": "code",
   "execution_count": 8,
   "metadata": {},
   "outputs": [
    {
     "name": "stderr",
     "output_type": "stream",
     "text": [
      "WARNING:absl:Importing a function (__inference_internal_grad_fn_1200144) with ops with unsaved custom gradients. Will likely fail if a gradient is requested.\n"
     ]
    }
   ],
   "source": [
    "resnet = tf.keras.models.load_model('../models/230522-Resnet/')"
   ]
  },
  {
   "cell_type": "code",
   "execution_count": 9,
   "metadata": {},
   "outputs": [],
   "source": [
    "train_dataset = tf.data.Dataset.from_tensor_slices((train_x, train_y)).batch(256)\n",
    "val_dataset = tf.data.Dataset.from_tensor_slices((val_x, val_y)).batch(256)"
   ]
  },
  {
   "cell_type": "code",
   "execution_count": 11,
   "metadata": {},
   "outputs": [
    {
     "name": "stdout",
     "output_type": "stream",
     "text": [
      "1/6 [====>.........................] - ETA: 0s"
     ]
    },
    {
     "name": "stderr",
     "output_type": "stream",
     "text": [
      "2023-05-25 11:05:03.608930: I tensorflow/core/common_runtime/executor.cc:1197] [/device:CPU:0] (DEBUG INFO) Executor start aborting (this does not indicate an error and you can ignore this message): INVALID_ARGUMENT: You must feed a value for placeholder tensor 'Placeholder/_1' with dtype int64 and shape [1302]\n",
      "\t [[{{node Placeholder/_1}}]]\n"
     ]
    },
    {
     "name": "stdout",
     "output_type": "stream",
     "text": [
      "6/6 [==============================] - 2s 319ms/step\n",
      "(1302, 1) (1302,)\n",
      "0.5519124542330084 ± 0.4350521281922736\n"
     ]
    }
   ],
   "source": [
    "pred_y = resnet.predict(val_dataset)\n",
    "print(pred_y.shape, val_y.shape)\n",
    "abs_err = abs(val_y.reshape(-1,1) - pred_y)\n",
    "print(f'{np.mean(abs_err)} ± {np.std(abs_err)}')"
   ]
  },
  {
   "cell_type": "code",
   "execution_count": 10,
   "metadata": {},
   "outputs": [
    {
     "name": "stderr",
     "output_type": "stream",
     "text": [
      "2023-05-22 14:54:20.241274: I tensorflow/core/common_runtime/executor.cc:1197] [/device:CPU:0] (DEBUG INFO) Executor start aborting (this does not indicate an error and you can ignore this message): INVALID_ARGUMENT: You must feed a value for placeholder tensor 'Placeholder/_1' with dtype int64 and shape [1302]\n",
      "\t [[{{node Placeholder/_1}}]]\n",
      "2023-05-22 14:54:21.707843: I tensorflow/compiler/xla/stream_executor/cuda/cuda_dnn.cc:424] Loaded cuDNN version 8700\n"
     ]
    },
    {
     "name": "stdout",
     "output_type": "stream",
     "text": [
      "6/6 [==============================] - 5s 275ms/step - loss: 0.5519 - mean_absolute_error: 0.5519\n"
     ]
    },
    {
     "data": {
      "text/plain": [
       "[0.5519124865531921, 0.5519124865531921]"
      ]
     },
     "execution_count": 10,
     "metadata": {},
     "output_type": "execute_result"
    }
   ],
   "source": [
    "resnet.evaluate(val_dataset)"
   ]
  },
  {
   "cell_type": "code",
   "execution_count": 12,
   "metadata": {},
   "outputs": [
    {
     "name": "stdout",
     "output_type": "stream",
     "text": [
      "41/41 [==============================] - 2s 40ms/step\n"
     ]
    }
   ],
   "source": [
    "pred_y = resnet.predict(val_x)"
   ]
  },
  {
   "cell_type": "code",
   "execution_count": 34,
   "metadata": {},
   "outputs": [
    {
     "data": {
      "image/png": "[encoded data removed]",
      "text/plain": [
       "<Figure size 1000x700 with 1 Axes>"
      ]
     },
     "metadata": {},
     "output_type": "display_data"
    }
   ],
   "source": [
    "plt.figure(figsize=(10,7))\n",
    "plt.hist(val_y, bins=15, color='r', density=True, alpha=0.5, label='true resp')\n",
    "plt.hist(pred_y, bins=15, color='b', density=True, alpha=0.5, label='pred resp')\n",
    "plt.axvline(val_y.mean(), color='magenta', linestyle='--', linewidth=3, alpha=.5)\n",
    "plt.axvline(pred_y.mean(), color='cyan', linestyle='--', linewidth=3, alpha=.5)\n",
    "plt.xlabel('Respiratory Rate per min')\n",
    "plt.legend()\n",
    "plt.show()"
   ]
  },
  {
   "cell_type": "code",
   "execution_count": null,
   "metadata": {},
   "outputs": [],
   "source": [
    "plt.figure(figsize=(7,7))\n",
    "plt."
   ]
  },
  {
   "cell_type": "code",
   "execution_count": 35,
   "metadata": {},
   "outputs": [],
   "source": [
    "from scipy import stats"
   ]
  },
  {
   "cell_type": "code",
   "execution_count": 39,
   "metadata": {},
   "outputs": [
    {
     "data": {
      "text/plain": [
       "BartlettResult(statistic=0.05017061662841224, pvalue=0.8227666536957075)"
      ]
     },
     "execution_count": 39,
     "metadata": {},
     "output_type": "execute_result"
    }
   ],
   "source": [
    "stats.bartlett(val_y, pred_y.reshape(-1))"
   ]
  },
  {
   "cell_type": "code",
   "execution_count": 40,
   "metadata": {},
   "outputs": [
    {
     "data": {
      "text/plain": [
       "Ttest_indResult(statistic=array([0.17826255], dtype=float32), pvalue=array([0.85853064], dtype=float32))"
      ]
     },
     "execution_count": 40,
     "metadata": {},
     "output_type": "execute_result"
    }
   ],
   "source": [
    "stats.ttest_ind(val_y, pred_y, equal_var=True)"
   ]
  },
  {
   "attachments": {},
   "cell_type": "markdown",
   "metadata": {},
   "source": [
    "그러므로 ResNet 모델은 실제 호흡수 값들의 평균에 근사한 예측 호흡수 값 평균을 가진다."
   ]
  },
  {
   "cell_type": "markdown",
   "metadata": {},
   "source": []
  }
 ],
 "metadata": {
  "kernelspec": {
   "display_name": "Python 3",
   "language": "python",
   "name": "python3"
  },
  "language_info": {
   "codemirror_mode": {
    "name": "ipython",
    "version": 3
   },
   "file_extension": ".py",
   "mimetype": "text/x-python",
   "name": "python",
   "nbconvert_exporter": "python",
   "pygments_lexer": "ipython3",
   "version": "3.10.6"
  },
  "orig_nbformat": 4,
  "vscode": {
   "interpreter": {
    "hash": "31f2aee4e71d21fbe5cf8b01ff0e069b9275f58929596ceb00d14d90e3e16cd6"
   }
  }
 },
 "nbformat": 4,
 "nbformat_minor": 2
}
