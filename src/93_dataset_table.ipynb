{
 "cells": [
  {
   "cell_type": "code",
   "execution_count": 1,
   "metadata": {},
   "outputs": [],
   "source": [
    "import numpy as np\n",
    "\n",
    "DATA_PATH = '/root/Workspace/DataLake/stMary'\n",
    "DATA_SAVE_PATH = '/root/Workspace/Project-RRpo-2ndStudy/dataset' "
   ]
  },
  {
   "cell_type": "code",
   "execution_count": 20,
   "metadata": {},
   "outputs": [],
   "source": [
    "def tablize(path, dataset_name):\n",
    "    dataset = np.load(f'{path}/{dataset_name}-preprocessed.npy', allow_pickle=True)\n",
    "    dataset_trainval = np.load(f'{path}/{dataset_name}-trainval_dataset.npy', allow_pickle=True)\n",
    "    dataset_test = np.load(f'{path}/{dataset_name}-test_dataset.npy', allow_pickle=True)\n",
    "    print('==TOTAL==')\n",
    "    print(dataset.shape)\n",
    "    print(np.concatenate([samples for id, samples in dataset],axis=0).shape)\n",
    "    print('\\n==TrainVal & Test==')\n",
    "    dataset_trainval_data = np.concatenate([samples for id, samples in dataset_trainval],axis=0)\n",
    "    dataset_test_data = np.concatenate([samples for id, samples in dataset_test],axis=0)\n",
    "    print(dataset_trainval.shape, dataset_trainval_data.shape)\n",
    "    print(dataset_test.shape, dataset_test_data.shape)\n",
    "\n",
    "    print('\\n==Train RR class==')\n",
    "    T_slow = []; T_norm = []; T_rapid = []\n",
    "    for pleth, resp in dataset_trainval_data:\n",
    "        if resp < 12: T_slow.append(resp)\n",
    "        elif resp > 20: T_rapid.append(resp)\n",
    "        else: T_norm.append(resp)\n",
    "\n",
    "    print(len(T_slow), len(T_norm), len(T_rapid))\n",
    "\n",
    "    print('\\n==Test RR class==')\n",
    "    tt_slow = []; tt_norm = []; tt_rapid = []\n",
    "    for pleth, resp in dataset_test_data:\n",
    "        if resp < 12: tt_slow.append(resp)\n",
    "        elif resp > 20: tt_rapid.append(resp)\n",
    "        else: tt_norm.append(resp)\n",
    "\n",
    "    print(len(tt_slow), len(tt_norm), len(tt_rapid))"
   ]
  },
  {
   "attachments": {},
   "cell_type": "markdown",
   "metadata": {},
   "source": [
    "# StMary"
   ]
  },
  {
   "cell_type": "code",
   "execution_count": 21,
   "metadata": {},
   "outputs": [
    {
     "name": "stdout",
     "output_type": "stream",
     "text": [
      "==TOTAL==\n",
      "(100, 2)\n",
      "(6508, 2)\n",
      "\n",
      "==TrainVal & Test==\n",
      "(85, 2) (5612, 2)\n",
      "(15, 2) (896, 2)\n",
      "\n",
      "==Train RR class==\n",
      "695 3314 1603\n",
      "\n",
      "==Test RR class==\n",
      "190 466 240\n"
     ]
    }
   ],
   "source": [
    "tablize(f'{DATA_SAVE_PATH}/230920', 'stmary')"
   ]
  },
  {
   "attachments": {},
   "cell_type": "markdown",
   "metadata": {},
   "source": [
    "# BIDMC"
   ]
  },
  {
   "cell_type": "code",
   "execution_count": 22,
   "metadata": {},
   "outputs": [
    {
     "name": "stdout",
     "output_type": "stream",
     "text": [
      "==TOTAL==\n",
      "(50, 2)\n",
      "(21050, 2)\n",
      "\n",
      "==TrainVal & Test==\n",
      "(43, 2) (18103, 2)\n",
      "(7, 2) (2947, 2)\n",
      "\n",
      "==Train RR class==\n",
      "421 15575 2107\n",
      "\n",
      "==Test RR class==\n",
      "238 2201 508\n"
     ]
    }
   ],
   "source": [
    "tablize(f'{DATA_SAVE_PATH}/230921', 'bidmc')"
   ]
  },
  {
   "attachments": {},
   "cell_type": "markdown",
   "metadata": {},
   "source": [
    "# CapnoBase"
   ]
  },
  {
   "cell_type": "code",
   "execution_count": 26,
   "metadata": {},
   "outputs": [
    {
     "name": "stdout",
     "output_type": "stream",
     "text": [
      "==TOTAL==\n",
      "(13, 2)\n",
      "(5473, 2)\n",
      "\n",
      "==RR class==\n",
      "3226 1978 269\n"
     ]
    }
   ],
   "source": [
    "dataset = np.load(f'{DATA_SAVE_PATH}/230920/capno-preprocessed.npy', allow_pickle=True)\n",
    "print('==TOTAL==')\n",
    "print(dataset.shape)\n",
    "print(np.concatenate([samples for id, samples in dataset],axis=0).shape)\n",
    "\n",
    "print('\\n==RR class==')\n",
    "T_slow = []; T_norm = []; T_rapid = []\n",
    "for id, samples in dataset:\n",
    "    for pleth, resp in samples:\n",
    "        if resp < 12: T_slow.append(resp)\n",
    "        elif resp > 20: T_rapid.append(resp)\n",
    "        else: T_norm.append(resp)\n",
    "\n",
    "print(len(T_slow), len(T_norm), len(T_rapid))"
   ]
  },
  {
   "attachments": {},
   "cell_type": "markdown",
   "metadata": {},
   "source": [
    "## Samples(subject)"
   ]
  },
  {
   "cell_type": "code",
   "execution_count": 8,
   "metadata": {},
   "outputs": [
    {
     "name": "stdout",
     "output_type": "stream",
     "text": [
      "(100, 2)\n",
      "(6508, 2)\n"
     ]
    }
   ],
   "source": [
    "stmary = np.load(f'{DATA_SAVE_PATH}/230920/stmary-preprocessed.npy', allow_pickle=True)\n",
    "print(stmary.shape)\n",
    "print(np.concatenate([samples for id, samples in stmary],axis=0).shape)"
   ]
  },
  {
   "cell_type": "code",
   "execution_count": 2,
   "metadata": {},
   "outputs": [
    {
     "name": "stdout",
     "output_type": "stream",
     "text": [
      "(85, 2) (15, 2)\n"
     ]
    }
   ],
   "source": [
    "stmary_trainval = np.load(f'{DATA_SAVE_PATH}/230920/stmary-trainval_dataset.npy', allow_pickle=True)\n",
    "stmary_test = np.load(f'{DATA_SAVE_PATH}/230920/stmary-test_dataset.npy', allow_pickle=True)\n",
    "print(stmary_trainval.shape, stmary_test.shape)"
   ]
  },
  {
   "cell_type": "code",
   "execution_count": 9,
   "metadata": {},
   "outputs": [
    {
     "name": "stdout",
     "output_type": "stream",
     "text": [
      "(5612, 2)\n",
      "(896, 2)\n"
     ]
    }
   ],
   "source": [
    "stmary_trainval_data = np.concatenate([samples for id, samples in stmary_trainval],axis=0)\n",
    "stmary_test_data = np.concatenate([samples for id, samples in stmary_test],axis=0)\n",
    "print(stmary_trainval_data.shape)\n",
    "print(stmary_test_data.shape)"
   ]
  },
  {
   "attachments": {},
   "cell_type": "markdown",
   "metadata": {},
   "source": [
    "### RR class"
   ]
  },
  {
   "cell_type": "code",
   "execution_count": 10,
   "metadata": {},
   "outputs": [
    {
     "name": "stdout",
     "output_type": "stream",
     "text": [
      "695 3314 1603\n"
     ]
    }
   ],
   "source": [
    "T_slow = []; T_norm = []; T_rapid = []\n",
    "\n",
    "for pleth, resp in stmary_trainval_data:\n",
    "    if resp < 12: T_slow.append(resp)\n",
    "    elif resp > 20: T_rapid.append(resp)\n",
    "    else: T_norm.append(resp)\n",
    "\n",
    "print(len(T_slow), len(T_norm), len(T_rapid))"
   ]
  },
  {
   "cell_type": "code",
   "execution_count": null,
   "metadata": {},
   "outputs": [],
   "source": []
  }
 ],
 "metadata": {
  "kernelspec": {
   "display_name": "Python 3",
   "language": "python",
   "name": "python3"
  },
  "language_info": {
   "codemirror_mode": {
    "name": "ipython",
    "version": 3
   },
   "file_extension": ".py",
   "mimetype": "text/x-python",
   "name": "python",
   "nbconvert_exporter": "python",
   "pygments_lexer": "ipython3",
   "version": "3.10.12"
  },
  "orig_nbformat": 4
 },
 "nbformat": 4,
 "nbformat_minor": 2
}
