{
 "cells": [
  {
   "cell_type": "code",
   "execution_count": 1,
   "metadata": {},
   "outputs": [],
   "source": [
    "import numpy as np"
   ]
  },
  {
   "cell_type": "code",
   "execution_count": 3,
   "metadata": {},
   "outputs": [
    {
     "name": "stdout",
     "output_type": "stream",
     "text": [
      "(489, 2)\n",
      "[[array([ 1.34310827e-01, -1.72755175e+01, -3.50188641e+01, ...,\n",
      "          2.53006996e+02,  3.04690014e+02,  3.49826494e+02])     18]\n",
      " [array([-173.89644469, -191.88503338, -207.42843855, ..., -614.50780984,\n",
      "         -617.1630912 , -615.95674291])\n",
      "  17]\n",
      " [array([-61.06533745, -44.254553  , -28.86251007, ..., -43.80296885,\n",
      "         -55.05317591, -66.50906096])                                 17]\n",
      " [array([-231.89353892, -248.54359463, -265.19371548, ..., -394.30426383,\n",
      "         -403.98687518, -414.40740483])\n",
      "  16]\n",
      " [array([387.72504662, 418.03740933, 440.7437886 , ...,  14.56412795,\n",
      "          -3.47130216, -20.03924253])                                 17]]\n",
      "7500\n"
     ]
    }
   ],
   "source": [
    "dataset = np.load('../../DataWarehouse/stMary_RRpo/20_230517_sliced_filt_patient_stmary.npy', allow_pickle=True)\n",
    "print(dataset.shape)\n",
    "print(dataset[:5][:])\n",
    "print(len(dataset[0][0]))"
   ]
  },
  {
   "cell_type": "code",
   "execution_count": null,
   "metadata": {},
   "outputs": [],
   "source": []
  }
 ],
 "metadata": {
  "kernelspec": {
   "display_name": "Python 3",
   "language": "python",
   "name": "python3"
  },
  "language_info": {
   "codemirror_mode": {
    "name": "ipython",
    "version": 3
   },
   "file_extension": ".py",
   "mimetype": "text/x-python",
   "name": "python",
   "nbconvert_exporter": "python",
   "pygments_lexer": "ipython3",
   "version": "3.10.6"
  },
  "orig_nbformat": 4,
  "vscode": {
   "interpreter": {
    "hash": "31f2aee4e71d21fbe5cf8b01ff0e069b9275f58929596ceb00d14d90e3e16cd6"
   }
  }
 },
 "nbformat": 4,
 "nbformat_minor": 2
}
