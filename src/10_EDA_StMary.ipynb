{
 "cells": [
  {
   "attachments": {},
   "cell_type": "markdown",
   "metadata": {},
   "source": [
    "# Explanatory Data Analysis for StMary\n",
    "\n",
    "서울성모병원 외과중환자실에서 수집된 중환자 50명, 건강한 자원자 50명의 2분 Photoplethysmography(PPG), Respiratory rate(RR)의 데이터를 분석한다.\n",
    "\n",
    "1) StMary 데이터셋의 특징을 추출하는 것은 물론이고, \n",
    "\n",
    "2) 중환자 데이터와 건강한 자원자 데이터를 병합해서 데이터셋을 구성해도 무방한지 등에 대해서도 검증이 필요하다.\n",
    "\n",
    "3) 남자와 여자 데이터를 병합해서 데이터셋을 구성해도 무방한지 등에 대해서도 검증한다.\n",
    "\n",
    "4) 또한 모델의 학습 후에 검증용으로 사용할 예정인 BIDMC, Capnobase 와 같은 데이터는 그 특징 및 성격이 StMary 데이터셋과 비교하여 어떠한지도 살펴볼 필요가 있다.\n",
    "\n",
    "## Conclusion\n",
    "\n",
    "EDA를 통해 서울성모병원 SICU의 데이터셋 특징을 추출할 수 있었고, 이때 남자와 여자의 두 집단은 그 신호 데이터셋에 대하여 동일한 집단이라고 볼 수 있다.\n",
    "\n",
    "하지만 환자와 자원자 두 집단에 대하여 비교를 하였을 때는 두 집단이 동일한 집단이라고 보기 어렵다. (Ttest_indResult(statistic=-2.230645821079589, pvalue=0.02690414574560482))\n",
    "\n",
    "그러므로 연구를 수행할 때에는 환자와 자원자는 확실히 구분할 필요가 있다.\n",
    "\n",
    "다만, 모델 학습에 있어서 반드시 두 집단을 구분할 필요가 있을지에 대해서는 고민의 여지가 있다.\n",
    "\n",
    "이는 모델을 학습시켜 환자와 자원자 양쪽을 다 예측할 수 있도록 일반화시키는 방안이 될 수도 있기 때문이다.\n",
    "\n",
    "하지만 엄밀하게는 이 두 집단을 구분하여 학습시킬 필요가 있을 듯 하다.\n",
    "\n",
    "이후에는 학습의 성과를 측정하기 위해 외부 데이터셋인 BIDMC 를 활용하고자 한다."
   ]
  },
  {
   "cell_type": "code",
   "execution_count": 2,
   "metadata": {},
   "outputs": [],
   "source": [
    "import numpy as np\n",
    "import pandas as pd\n",
    "import matplotlib.pyplot as plt\n",
    "\n",
    "%matplotlib inline\n",
    "plt.style.use('ggplot')\n",
    "\n",
    "fs = 125\n",
    "window_size = fs * 60 # 7500\n",
    "shift = int(window_size/4) # 1875\n",
    "\n",
    "DATA_PATH = '../../DataLake/stMary'"
   ]
  },
  {
   "cell_type": "code",
   "execution_count": 3,
   "metadata": {},
   "outputs": [],
   "source": [
    "subjects = pd.read_csv(f'{DATA_PATH}/patients.csv')\n",
    "males = subjects.loc[subjects['gender']=='M']\n",
    "females = subjects.loc[subjects['gender']=='F']\n",
    "patients = subjects.loc[subjects['diagnosis']!='0']\n",
    "volunteers = subjects.loc[subjects['diagnosis']=='0']"
   ]
  },
  {
   "cell_type": "code",
   "execution_count": 4,
   "metadata": {},
   "outputs": [],
   "source": [
    "def generate_dataset(id_list):\n",
    "    dataset = []\n",
    "    for sid in id_list.id.unique():\n",
    "        pleth = pd.read_csv(f'{DATA_PATH}/{sid}/pleth.csv', header=None, names=['sid', 'offset', 'pleth'])\n",
    "        resp = pd.read_csv(f'{DATA_PATH}/{sid}/respirationTimeline.csv', header=None, names=['sid', 'offset'])\n",
    "        pleth['offset'] = pleth['offset'] - pleth['offset'].min()\n",
    "        resp['offset'] = (resp['offset'] - resp['offset'].min())/1000\n",
    "        size_lim = int(fs * np.ceil(resp['offset'].max()))\n",
    "        pleth = pleth[:size_lim]\n",
    "        samp_resp = [len(resp.loc[(resp['offset']>=0+(int(shift/fs)*i)) & ((resp['offset']<int(window_size/fs)+(int(shift/fs)*i)))]) for i in range(int((len(pleth)-window_size)/shift)+1)]\n",
    "        samp_pleth = [pleth[0+(shift*i):window_size+(shift*i)].pleth.values for i in range(int((len(pleth) - window_size)/shift)+1)]\n",
    "        \n",
    "        for i in range(len(samp_pleth)):\n",
    "            temp = []\n",
    "            temp.append(samp_pleth[i])\n",
    "            temp.append(samp_resp[i])\n",
    "            dataset.append(np.asarray(temp, dtype=object))\n",
    "\n",
    "    return np.asarray(dataset)"
   ]
  },
  {
   "cell_type": "code",
   "execution_count": 5,
   "metadata": {},
   "outputs": [],
   "source": [
    "patient_dataset = generate_dataset(patients)\n",
    "volunteer_dataset = generate_dataset(volunteers)"
   ]
  },
  {
   "cell_type": "code",
   "execution_count": 6,
   "metadata": {},
   "outputs": [
    {
     "name": "stdout",
     "output_type": "stream",
     "text": [
      "489 471\n"
     ]
    },
    {
     "data": {
      "text/plain": [
       "array([[array([1759, 1748, 1737, ..., 2039, 2095, 2144]), 18],\n",
       "       [array([1951, 1934, 1918, ..., 1216, 1210, 1211]), 17],\n",
       "       [array([1773, 1794, 1813, ..., 1808, 1795, 1782]), 17],\n",
       "       [array([1785, 1770, 1755, ..., 1597, 1589, 1580]), 16],\n",
       "       [array([2186, 2221, 2249, ..., 1884, 1865, 1847]), 17],\n",
       "       [array([1467, 1476, 1490, ..., 1850, 1844, 1841]), 18],\n",
       "       [array([1380, 1380, 1380, ..., 1920, 1934, 1943]), 17],\n",
       "       [array([2175, 2173, 2166, ..., 1644, 1666, 1694]), 20],\n",
       "       [array([1768, 1765, 1762, ..., 1841, 1840, 1837]), 20],\n",
       "       [array([1842, 1845, 1851, ..., 1465, 1460, 1455]), 19]],\n",
       "      dtype=object)"
      ]
     },
     "execution_count": 6,
     "metadata": {},
     "output_type": "execute_result"
    }
   ],
   "source": [
    "print(len(patient_dataset), len(volunteer_dataset))\n",
    "patient_dataset[:10][:]"
   ]
  },
  {
   "attachments": {},
   "cell_type": "markdown",
   "metadata": {},
   "source": [
    "## 1. Characteristic of Stmary"
   ]
  },
  {
   "cell_type": "code",
   "execution_count": 7,
   "metadata": {},
   "outputs": [
    {
     "name": "stdout",
     "output_type": "stream",
     "text": [
      "Total subjects: \t200\n",
      "Total males: \t\t86\n",
      "Total females: \t\t114\n",
      "Total patients: \t56(M)|44(F)\n",
      "Total volunteers: \t30(M)|70(F)\n",
      "Patients age: \t\t61.94±16.32\n",
      "Volunteers age: \t32.66±6.93\n"
     ]
    },
    {
     "data": {
      "text/plain": [
       "diagnosis\n",
       "AGC c liver meta                           2\n",
       "AML                                        2\n",
       "ARDS                                       2\n",
       "ASO                                        8\n",
       "Aneurysm and dissection of Renal artery    1\n",
       "Aneurysm and dissection of renal artery    1\n",
       "Aortic aneurysm                            2\n",
       "Brain death                                2\n",
       "CAPD peritonitis                           2\n",
       "CBD obstruction                            2\n",
       "Cervical cancer                            2\n",
       "DM foot                                    2\n",
       "Deep neck abscess                          4\n",
       "Duodenal perforation                       2\n",
       "Endometrial cancer                         4\n",
       "Esophageal cancer                          4\n",
       "Fracture of neck of femur                  2\n",
       "Fulminant hepatitis                        2\n",
       "GB cancer                                  2\n",
       "Gastric cancer                             2\n",
       "HCC                                        2\n",
       "Hepatectomy                                1\n",
       "IPMN                                       4\n",
       "IPMT                                       2\n",
       "IgA nephritis                              2\n",
       "Intrahepatic biliary duct stricture        1\n",
       "Intrahepatic biliary stricture             1\n",
       "MDS                                        2\n",
       "Malignant mesothelioma                     2\n",
       "Multiple contusion                         2\n",
       "Ovary cancer                               2\n",
       "Panperitonitis                             3\n",
       "Placenta abruptio                          2\n",
       "Postpartum bleeding                        2\n",
       "Pyogenic spondylitis                       2\n",
       "RCC                                        4\n",
       "Septic shock                               2\n",
       "Spinal stenosis                            2\n",
       "Thromboangiitis obliterans                 2\n",
       "Tongue cancer                              2\n",
       "Vesico-intestinal fistula                  2\n",
       "brain death                                2\n",
       "hepatectomy                                1\n",
       "pancreas cancer                            2\n",
       "panperitonitis                             1\n",
       "Name: id, dtype: int64"
      ]
     },
     "metadata": {},
     "output_type": "display_data"
    }
   ],
   "source": [
    "print(f'Total subjects: \\t{len(subjects)}')\n",
    "print(f'Total males: \\t\\t{len(males)}')\n",
    "print(f'Total females: \\t\\t{len(females)}')\n",
    "print(f'Total patients: \\t{males.loc[males[\"diagnosis\"]!=\"0\", \"id\"].nunique()}(M)|{females.loc[females[\"diagnosis\"]!=\"0\", \"id\"].nunique()}(F)')\n",
    "print(f'Total volunteers: \\t{males.loc[males[\"diagnosis\"]==\"0\", \"id\"].nunique()}(M)|{females.loc[females[\"diagnosis\"]==\"0\", \"id\"].nunique()}(F)')\n",
    "print(f'Patients age: \\t\\t{patients.age.mean():.2f}±{patients.age.std():.2f}')\n",
    "print(f'Volunteers age: \\t{volunteers.age.mean():.2f}±{volunteers.age.std():.2f}')\n",
    "display(patients.groupby(by='diagnosis').count()['id'])"
   ]
  },
  {
   "attachments": {},
   "cell_type": "markdown",
   "metadata": {},
   "source": [
    "## 2. Difference Between Male and Female"
   ]
  },
  {
   "attachments": {},
   "cell_type": "markdown",
   "metadata": {},
   "source": [
    "남성의 PPG 신호와 여성의 PPG 신호를 합쳐서 연구에 사용해도 괜찮은지 먼저 살펴보고자 한다.\n",
    "\n",
    "이를 위해서는 남성, 여성 샘플 각 86개, 114개 표본의 평균을 구하고자 한다. (서로 다른 두 집단)\n",
    "\n",
    "표본들은 서로 독립적이라고 가정하며, 표본의 수가 30 이상이므로 중심극한정리에 따라 정규성을 만족한다고 본다.\n",
    "\n",
    "등분산성을 만족하는지 `Bartlett-test`, `Levene-test`, `Fligner-test` 등을 수행하여서 검정한다.\n",
    "\n",
    "Significant level 은 0.05로 잡는다."
   ]
  },
  {
   "cell_type": "code",
   "execution_count": 8,
   "metadata": {},
   "outputs": [],
   "source": [
    "from scipy import stats"
   ]
  },
  {
   "cell_type": "code",
   "execution_count": 9,
   "metadata": {},
   "outputs": [],
   "source": [
    "col_names = ['sid', 'offset', 'pleth']\n",
    "males_total_pleth = np.asarray([np.mean(pd.read_csv(f'{DATA_PATH}/{sid}/pleth.csv', header=None, names=col_names).pleth.values, axis=0) for sid in males.id.unique()])\n",
    "females_total_pleth = np.asarray([np.mean(pd.read_csv(f'{DATA_PATH}/{sid}/pleth.csv', header=None, names=col_names).pleth.values, axis=0) for sid in females.id.unique()])"
   ]
  },
  {
   "cell_type": "code",
   "execution_count": 10,
   "metadata": {},
   "outputs": [
    {
     "data": {
      "text/plain": [
       "BartlettResult(statistic=0.029323505580670005, pvalue=0.8640342117067661)"
      ]
     },
     "execution_count": 10,
     "metadata": {},
     "output_type": "execute_result"
    }
   ],
   "source": [
    "stats.bartlett(males_total_pleth, females_total_pleth)"
   ]
  },
  {
   "attachments": {},
   "cell_type": "markdown",
   "metadata": {},
   "source": [
    "`Bartlett-test` 를 이용해서 남성, 여성 샘플 각 100개 표본의 평균값들이 등분산성을 갖는지 확인하였다.\n",
    "\n",
    "이때 p-value가 0.864 로 유의수준 0.05 보다 값이 크다. 그러므로 1종오류를 범할 확률이 크므로, 대립가설을 기각하고 귀무가설을 채택한다.\n",
    "\n",
    "귀무가설은 **데이터의 등분산성을 충족한다** 이다.\n",
    "\n",
    "등분산성이 충족될 경우 `Independent two sample t-test`를 수행하여 두 집단의 평균을 비교할 수 있다."
   ]
  },
  {
   "cell_type": "code",
   "execution_count": 11,
   "metadata": {},
   "outputs": [
    {
     "data": {
      "text/plain": [
       "Ttest_indResult(statistic=-1.404899941206344, pvalue=0.16161794676381397)"
      ]
     },
     "execution_count": 11,
     "metadata": {},
     "output_type": "execute_result"
    }
   ],
   "source": [
    "stats.ttest_ind(males_total_pleth, females_total_pleth, equal_var=True)"
   ]
  },
  {
   "attachments": {},
   "cell_type": "markdown",
   "metadata": {},
   "source": [
    "`Independent two sample t-test`를 수행하여 남성과 여성의 신호 두 집단의 평균이 같은지, 다른지를 확인하였다. (양측검정)\n",
    "\n",
    "p-value가 0.162 정도로 유의수준 0.05 보다 값이 크다. 그러므로 Type-1 error를 범할 확률이 크므로, 대립가설을 기각하고 귀무가설을 채택한다.\n",
    "\n",
    "귀무가설은 **두 집단의 평균이 같다** 이다."
   ]
  },
  {
   "cell_type": "code",
   "execution_count": 12,
   "metadata": {},
   "outputs": [
    {
     "data": {
      "image/png": "[encoded data removed]",
      "text/plain": [
       "<Figure size 700x700 with 1 Axes>"
      ]
     },
     "metadata": {},
     "output_type": "display_data"
    }
   ],
   "source": [
    "plt.figure(figsize=(7,7))\n",
    "plt.title(\"Difference between male's PPG and female's PPG\")\n",
    "plt.hist(males_total_pleth, bins=30, density=True, alpha=0.6, label='male')\n",
    "plt.axvline(males_total_pleth.mean(), linestyle='--', color='r')\n",
    "plt.hist(females_total_pleth, bins=30, density=True, alpha=0.6, label='female')\n",
    "plt.axvline(females_total_pleth.mean(), linestyle='--', color='b')\n",
    "plt.legend()\n",
    "plt.show()"
   ]
  },
  {
   "attachments": {},
   "cell_type": "markdown",
   "metadata": {},
   "source": [
    "## 3. Difference Between Patient and Volunteer"
   ]
  },
  {
   "attachments": {},
   "cell_type": "markdown",
   "metadata": {},
   "source": [
    "환자의 PPG 신호와 건강한 자원자의 PPG 신호를 합쳐서 연구에 사용해도 괜찮은지 먼저 살펴보고자 한다.\n",
    "\n",
    "이를 위해서는 환자, 자원자 샘플 각 100개 표본의 평균을 구하고자 한다. (서로 다른 두 집단)\n",
    "\n",
    "표본들은 서로 독립적이라고 가정하며, 표본의 수가 30 이상이므로 중심극한정리에 따라 정규성을 만족한다고 본다.\n",
    "\n",
    "등분산성을 만족하는지 `Bartlett-test`, `Levene-test`, `Fligner-test` 등을 수행하여서 검정한다.\n",
    "\n",
    "Significant level 은 0.05로 잡는다."
   ]
  },
  {
   "cell_type": "code",
   "execution_count": 13,
   "metadata": {},
   "outputs": [],
   "source": [
    "from scipy import stats"
   ]
  },
  {
   "cell_type": "code",
   "execution_count": 14,
   "metadata": {},
   "outputs": [],
   "source": [
    "col_names = ['sid', 'offset', 'pleth']\n",
    "patients_total_pleth = np.asarray([np.mean(pd.read_csv(f'{DATA_PATH}/{sid}/pleth.csv', header=None, names=col_names).pleth.values, axis=0) for sid in patients.id.unique()])\n",
    "volunteers_total_pleth = np.asarray([np.mean(pd.read_csv(f'{DATA_PATH}/{sid}/pleth.csv', header=None, names=col_names).pleth.values, axis=0) for sid in volunteers.id.unique()])"
   ]
  },
  {
   "cell_type": "code",
   "execution_count": 15,
   "metadata": {},
   "outputs": [
    {
     "data": {
      "text/plain": [
       "BartlettResult(statistic=6.983607137831417, pvalue=0.008225964645362703)"
      ]
     },
     "execution_count": 15,
     "metadata": {},
     "output_type": "execute_result"
    }
   ],
   "source": [
    "stats.bartlett(patients_total_pleth, volunteers_total_pleth)"
   ]
  },
  {
   "cell_type": "code",
   "execution_count": 16,
   "metadata": {},
   "outputs": [
    {
     "data": {
      "text/plain": [
       "LeveneResult(statistic=11.16751060311394, pvalue=0.0009950971859602395)"
      ]
     },
     "execution_count": 16,
     "metadata": {},
     "output_type": "execute_result"
    }
   ],
   "source": [
    "stats.levene(patients_total_pleth, volunteers_total_pleth)"
   ]
  },
  {
   "cell_type": "code",
   "execution_count": 17,
   "metadata": {},
   "outputs": [
    {
     "data": {
      "text/plain": [
       "FlignerResult(statistic=12.108989093258293, pvalue=0.0005017933203570262)"
      ]
     },
     "execution_count": 17,
     "metadata": {},
     "output_type": "execute_result"
    }
   ],
   "source": [
    "stats.fligner(patients_total_pleth, volunteers_total_pleth)"
   ]
  },
  {
   "cell_type": "code",
   "execution_count": 18,
   "metadata": {},
   "outputs": [
    {
     "name": "stdout",
     "output_type": "stream",
     "text": [
      "Rule of thumb: 1.708617286034567\n"
     ]
    }
   ],
   "source": [
    "# np.var(patients_total_pleth) # 11804.994545487607\n",
    "# np.var(volunteers_total_pleth) # 6909.092306379008\n",
    "print(f'Rule of thumb: {np.var(patients_total_pleth)/np.var(volunteers_total_pleth)}')"
   ]
  },
  {
   "attachments": {},
   "cell_type": "markdown",
   "metadata": {},
   "source": [
    "이상의 세 가지 등분산성 검정을 실시하였을 때 두 집단 사이에는 등분산성이 존재하지 않음을 알 수 있다.\n",
    "\n",
    "등분산성이 존재하지 않는 경우, 자유도를 수정한 강건한 t-test 인 `Welch t-test` 를 수행할 수 있다."
   ]
  },
  {
   "cell_type": "code",
   "execution_count": 19,
   "metadata": {},
   "outputs": [
    {
     "data": {
      "text/plain": [
       "Ttest_indResult(statistic=-2.230645821079589, pvalue=0.02690414574560482)"
      ]
     },
     "execution_count": 19,
     "metadata": {},
     "output_type": "execute_result"
    }
   ],
   "source": [
    "stats.ttest_ind(patients_total_pleth, volunteers_total_pleth, equal_var=False)"
   ]
  },
  {
   "attachments": {},
   "cell_type": "markdown",
   "metadata": {},
   "source": [
    "`Welch t-test`를 수행하여 환자와 자원자의 신호 두 집단의 평균이 동일한지 아닌지를 확인하였다.(양측검정)\n",
    "\n",
    "p-value가 약 0.027 정도로 유의수준 0.05 보다 값이 작다.\n",
    "\n",
    "또한 z-score 가 -2.23 정도로 -1.96 보다 값이 작다.\n",
    "\n",
    "그러므로 Type-1 error를 범할 확률이 작으므로, 대립가설을 채택하고 귀무가설을 기각한다.\n",
    "\n",
    "대립가설은 **두 집단이 서로 다르다(두 집단의 평균이 다르다)** 이다."
   ]
  },
  {
   "attachments": {},
   "cell_type": "markdown",
   "metadata": {},
   "source": [
    "다만, 인공지능의 학습 범주가 무엇이냐에 있어서는 두 집단이 서로 다르더라도 모델의 일반화를 위해서 학습시키는 것도 유의미하다."
   ]
  },
  {
   "cell_type": "code",
   "execution_count": 21,
   "metadata": {},
   "outputs": [
    {
     "data": {
      "text/plain": [
       "(-2.230645821079589, 0.02570459907168442)"
      ]
     },
     "execution_count": 21,
     "metadata": {},
     "output_type": "execute_result"
    }
   ],
   "source": [
    "# 추가 two-sample z-test\n",
    "from statsmodels.stats.weightstats import ztest\n",
    "\n",
    "ztest(patients_total_pleth, volunteers_total_pleth)"
   ]
  },
  {
   "cell_type": "code",
   "execution_count": 20,
   "metadata": {},
   "outputs": [
    {
     "data": {
      "image/png": "[encoded data removed]",
      "text/plain": [
       "<Figure size 700x700 with 1 Axes>"
      ]
     },
     "metadata": {},
     "output_type": "display_data"
    }
   ],
   "source": [
    "plt.figure(figsize=(7,7))\n",
    "plt.title(\"Difference between patient's PPG and volunteer's PPG\")\n",
    "plt.hist(patients_total_pleth, bins=30, density=True, alpha=0.6, label='patient')\n",
    "plt.axvline(patients_total_pleth.mean(), linestyle='--', color='r')\n",
    "plt.hist(volunteers_total_pleth, bins=30, density=True, alpha=0.6, label='volunteer')\n",
    "plt.axvline(volunteers_total_pleth.mean(), linestyle='--', color='b')\n",
    "plt.legend()\n",
    "plt.show()"
   ]
  },
  {
   "attachments": {},
   "cell_type": "markdown",
   "metadata": {},
   "source": [
    "## 4. Compare with BIDMC, Capnobase"
   ]
  },
  {
   "cell_type": "code",
   "execution_count": 31,
   "metadata": {},
   "outputs": [],
   "source": [
    "import os\n",
    "import re\n",
    "import numpy as np\n",
    "import pandas as pd\n",
    "import matplotlib.pyplot as plt\n",
    "\n",
    "%matplotlib inline\n",
    "plt.style.use('ggplot')\n",
    "\n",
    "fs = 125\n",
    "window_size = fs * 60 # 7500\n",
    "shift = int(window_size/4) # 1875"
   ]
  },
  {
   "attachments": {},
   "cell_type": "markdown",
   "metadata": {},
   "source": [
    "### 4.1. BIDMC\n",
    "\n",
    "BIDMC는 125Hz로 샘플링된 신호 데이터와 1Hz 샘플링된 수치 데이터를 가진다.\n",
    "\n",
    "본 연구에서는 단순화를 위해 1분(125*60)의 데이터를 1분당 호흡수와 대응시킨 데이터셋을 준비한다."
   ]
  },
  {
   "cell_type": "code",
   "execution_count": 32,
   "metadata": {},
   "outputs": [],
   "source": [
    "DATA_PATH2 = '../../DataLake/bidmc_csv'\n",
    "regex = re.compile('bidmc_[0-9]+')"
   ]
  },
  {
   "cell_type": "code",
   "execution_count": 33,
   "metadata": {},
   "outputs": [],
   "source": [
    "bidmc_id = sorted(list(set([regex.match(filename.name).group() for filename in os.scandir(DATA_PATH2)])))"
   ]
  },
  {
   "cell_type": "code",
   "execution_count": 34,
   "metadata": {},
   "outputs": [
    {
     "name": "stdout",
     "output_type": "stream",
     "text": [
      "(1537, 2)\n"
     ]
    }
   ],
   "source": [
    "bidmc_dataset = []\n",
    "for sid in bidmc_id:\n",
    "    pleth = pd.read_csv(f'{DATA_PATH2}/{sid}_Signals.csv', usecols=['Time [s]', ' PLETH'])\n",
    "    resp = pd.read_csv(f'{DATA_PATH2}/{sid}_Numerics.csv', usecols=['Time [s]', ' RESP'])\n",
    "\n",
    "    samp_pleth = [pleth[0+shift*i:window_size+shift*i][' PLETH'].values for i in range(int((len(pleth)-window_size)/shift)+1)]\n",
    "    samp_resp = [round(np.mean(resp[0+int(shift/fs)*i:int(window_size/fs)+int(shift/fs)*i][' RESP'])) for i in range(int((len(pleth)-window_size)/shift)+1)]\n",
    "\n",
    "    for i in range(len(samp_pleth)):\n",
    "        temp = []\n",
    "        temp.append(samp_pleth[i])\n",
    "        temp.append(samp_resp[i])\n",
    "        bidmc_dataset.append(np.asarray(temp, dtype=object))\n",
    "\n",
    "bidmc_dataset = np.asarray(bidmc_dataset)\n",
    "print(bidmc_dataset.shape) # 53개 레코드 각 29개 표본 추출\n"
   ]
  },
  {
   "attachments": {},
   "cell_type": "markdown",
   "metadata": {},
   "source": [
    "### 4.2. CapnoBase\n",
    "\n",
    "CapnoBase는 42개 레코드의 8분 PPG 신호 데이터를 갖고 있다.\n",
    "\n",
    "Sampling rate는 300Hz 이다.\n",
    "\n",
    "유아와 성인 환자들이 섞여 있는데 적합한지는 의문스럽다.\n",
    "\n",
    "굳이 capnobase 까지 써야할까 싶다."
   ]
  },
  {
   "cell_type": "code",
   "execution_count": 87,
   "metadata": {},
   "outputs": [],
   "source": [
    "fs = 300\n",
    "window_size = fs * 60 # 18000\n",
    "shift = int(window_size/4) # 4500"
   ]
  },
  {
   "cell_type": "code",
   "execution_count": 88,
   "metadata": {},
   "outputs": [],
   "source": [
    "DATA_PATH3 = '../../DataLake/Capnobase/data/csv'\n",
    "regex = re.compile('[0-9]{4}_8min')"
   ]
  },
  {
   "cell_type": "code",
   "execution_count": 89,
   "metadata": {},
   "outputs": [],
   "source": [
    "capno_id = sorted(list(set([regex.match(filename.name).group() for filename in os.scandir(DATA_PATH3)])))"
   ]
  },
  {
   "cell_type": "code",
   "execution_count": 109,
   "metadata": {},
   "outputs": [
    {
     "name": "stdout",
     "output_type": "stream",
     "text": [
      "        resp_x     resp_y\n",
      "0     21.53125  17.984375\n",
      "1     24.87500  17.984375\n",
      "2     28.15625  18.250000\n",
      "3     31.53125  17.796875\n",
      "4     34.78125  18.406250\n",
      "..         ...        ...\n",
      "146  481.75000  20.171875\n",
      "147  484.75000  19.234375\n",
      "148  487.75000  19.875000\n",
      "149  490.75000  19.421875\n",
      "150  494.00000  19.875000\n",
      "\n",
      "[151 rows x 2 columns]\n",
      "         resp_x     resp_y\n",
      "0     19.421875  28.578125\n",
      "1     21.515625  28.531250\n",
      "2     23.640625  28.250000\n",
      "3     25.781250  28.031250\n",
      "4     27.890625  28.531250\n",
      "..          ...        ...\n",
      "224  486.500000  28.937500\n",
      "225  488.500000  27.953125\n",
      "226  490.750000  29.171875\n",
      "227  492.750000  27.781250\n",
      "228  494.750000  29.218750\n",
      "\n",
      "[229 rows x 2 columns]\n",
      "        resp_x     resp_y\n",
      "0    22.171875  10.023438\n",
      "1    28.171875  10.007812\n",
      "2    34.187500   9.960938\n",
      "3    40.187500  10.015625\n",
      "4    46.156250  10.039062\n",
      "..         ...        ...\n",
      "74  466.000000  10.070312\n",
      "75  472.000000  10.031250\n",
      "76  478.000000   9.945312\n",
      "77  484.000000   9.976562\n",
      "78  490.000000  10.007812\n",
      "\n",
      "[79 rows x 2 columns]\n",
      "         resp_x    resp_y\n",
      "0     19.109375  37.28125\n",
      "1     20.625000  39.37500\n",
      "2     22.140625  39.65625\n",
      "3     23.640625  39.90625\n",
      "4     25.109375  40.90625\n",
      "..          ...       ...\n",
      "269  486.750000  24.09375\n",
      "270  488.250000  37.65625\n",
      "271  490.250000  29.75000\n",
      "272  492.250000  30.25000\n",
      "273  494.500000  29.56250\n",
      "\n",
      "[274 rows x 2 columns]\n",
      "         resp_x     resp_y\n",
      "0     20.515625  24.031250\n",
      "1     23.046875  23.750000\n",
      "2     25.625000  23.281250\n",
      "3     28.375000  21.875000\n",
      "4     31.000000  22.843750\n",
      "..          ...        ...\n",
      "168  482.500000  22.078125\n",
      "169  485.000000  22.328125\n",
      "170  487.750000  21.812500\n",
      "171  490.500000  21.562500\n",
      "172  493.500000  20.875000\n",
      "\n",
      "[173 rows x 2 columns]\n",
      "        resp_x     resp_y\n",
      "0    21.031250  12.492188\n",
      "1    25.671875  12.937500\n",
      "2    30.984375  11.312500\n",
      "3    36.625000  10.625000\n",
      "4    41.093750  13.460938\n",
      "..         ...        ...\n",
      "88  473.500000  11.578125\n",
      "89  479.000000  10.609375\n",
      "90  484.250000  11.664062\n",
      "91  489.500000  11.117188\n",
      "92  494.750000  11.804688\n",
      "\n",
      "[93 rows x 2 columns]\n",
      "       resp_x     resp_y\n",
      "0    26.15625   9.046875\n",
      "1    32.68750   9.171875\n",
      "2    36.75000  14.851562\n",
      "3    42.15625  11.062500\n",
      "4    48.68750   9.179688\n",
      "..        ...        ...\n",
      "83  475.50000  11.890625\n",
      "84  480.25000  12.937500\n",
      "85  485.50000  11.031250\n",
      "86  489.25000  15.968750\n",
      "87  493.75000  13.835938\n",
      "\n",
      "[88 rows x 2 columns]\n",
      "         resp_x     resp_y\n",
      "0     18.421875  29.515625\n",
      "1     20.843750  24.796875\n",
      "2     23.312500  24.265625\n",
      "3     25.296875  30.453125\n",
      "4     27.453125  27.781250\n",
      "..          ...        ...\n",
      "234  488.500000  37.968750\n",
      "235  490.000000  38.468750\n",
      "236  491.750000  33.843750\n",
      "237  493.750000  32.156250\n",
      "238  495.500000  34.406250\n",
      "\n",
      "[239 rows x 2 columns]\n",
      "     resp_x     resp_y\n",
      "0   146.750  25.390625\n",
      "1   172.500   2.335938\n",
      "2   186.125   4.390625\n",
      "3   193.250   8.328125\n",
      "4   197.250  15.398438\n",
      "5   199.750  23.687500\n",
      "6   202.000  25.968750\n",
      "7   210.500   7.132812\n",
      "8   239.000   2.099609\n",
      "9   242.750  16.171875\n",
      "10  245.750  19.984375\n",
      "11  248.125  25.718750\n",
      "12  250.500  24.187500\n",
      "13  253.125  23.812500\n",
      "14  270.250   3.468750\n",
      "15  273.250  20.937500\n",
      "16  276.750  17.328125\n",
      "17  279.000  27.234375\n",
      "18  281.250  24.593750\n",
      "19  283.750  25.000000\n",
      "20  286.000  26.984375\n",
      "21  287.750  31.578125\n",
      "22  290.250  23.968750\n",
      "23  291.750  41.000000\n",
      "24  320.250   2.111328\n",
      "25  335.250   4.019531\n",
      "26  340.000  12.203125\n",
      "27  344.000  14.921875\n",
      "28  349.750  10.648438\n",
      "29  354.250  13.093750\n",
      "30  369.000   4.062500\n",
      "31  377.250   7.394531\n",
      "32  382.250  11.695312\n",
      "33  385.000  23.500000\n",
      "34  390.250  11.289062\n",
      "35  398.000   7.593750\n",
      "36  402.250  14.468750\n",
      "37  404.250  31.468750\n",
      "38  409.000  12.343750\n",
      "39  413.250  13.960938\n",
      "40  415.500  29.171875\n",
      "41  417.000  37.500000\n",
      "42  419.250  27.687500\n",
      "43  424.500  11.179688\n",
      "44  435.500   5.468750\n",
      "45  443.750   7.316406\n",
      "46  451.750   7.437500\n",
      "47  458.000   9.664062\n",
      "48  465.250   8.156250\n",
      "49  471.750   9.429688\n",
      "50  477.250  10.710938\n",
      "51  485.250   7.597656\n",
      "52  489.750  13.062500\n"
     ]
    },
    {
     "name": "stderr",
     "output_type": "stream",
     "text": [
      "/usr/local/lib/python3.10/dist-packages/numpy/core/fromnumeric.py:3432: RuntimeWarning: Mean of empty slice.\n",
      "  return _methods._mean(a, axis=axis, dtype=dtype,\n",
      "/usr/local/lib/python3.10/dist-packages/numpy/core/_methods.py:188: RuntimeWarning: invalid value encountered in divide\n",
      "  ret = arr.dtype.type(ret / rcount)\n"
     ]
    },
    {
     "ename": "ValueError",
     "evalue": "cannot convert float NaN to integer",
     "output_type": "error",
     "traceback": [
      "\u001b[0;31m---------------------------------------------------------------------------\u001b[0m",
      "\u001b[0;31mValueError\u001b[0m                                Traceback (most recent call last)",
      "Cell \u001b[0;32mIn[109], line 12\u001b[0m\n\u001b[1;32m      9\u001b[0m \u001b[39mprint\u001b[39m(resp)\n\u001b[1;32m     11\u001b[0m samp_pleth \u001b[39m=\u001b[39m [pleth[\u001b[39m0\u001b[39m\u001b[39m+\u001b[39mshift\u001b[39m*\u001b[39mi:window_size\u001b[39m+\u001b[39mshift\u001b[39m*\u001b[39mi][\u001b[39m'\u001b[39m\u001b[39mpleth_y\u001b[39m\u001b[39m'\u001b[39m] \u001b[39mfor\u001b[39;00m i \u001b[39min\u001b[39;00m \u001b[39mrange\u001b[39m(\u001b[39mint\u001b[39m((\u001b[39mlen\u001b[39m(pleth)\u001b[39m-\u001b[39mwindow_size)\u001b[39m/\u001b[39mshift)\u001b[39m+\u001b[39m\u001b[39m1\u001b[39m)]\n\u001b[0;32m---> 12\u001b[0m samp_resp \u001b[39m=\u001b[39m [\u001b[39mround\u001b[39m(np\u001b[39m.\u001b[39mmean(resp\u001b[39m.\u001b[39mloc[(resp[\u001b[39m'\u001b[39m\u001b[39mresp_x\u001b[39m\u001b[39m'\u001b[39m]\u001b[39m>\u001b[39m\u001b[39m=\u001b[39m(\u001b[39m0\u001b[39m\u001b[39m+\u001b[39m\u001b[39mint\u001b[39m(shift\u001b[39m/\u001b[39mfs)\u001b[39m*\u001b[39mi)) \u001b[39m&\u001b[39m (resp[\u001b[39m'\u001b[39m\u001b[39mresp_x\u001b[39m\u001b[39m'\u001b[39m]\u001b[39m<\u001b[39m\u001b[39mint\u001b[39m(window_size\u001b[39m/\u001b[39mfs)\u001b[39m+\u001b[39m\u001b[39mint\u001b[39m(shift\u001b[39m/\u001b[39mfs)\u001b[39m*\u001b[39mi)][\u001b[39m'\u001b[39m\u001b[39mresp_y\u001b[39m\u001b[39m'\u001b[39m]\u001b[39m.\u001b[39mvalues)) \u001b[39mfor\u001b[39;00m i \u001b[39min\u001b[39;00m \u001b[39mrange\u001b[39m(\u001b[39mint\u001b[39m((\u001b[39mlen\u001b[39m(pleth)\u001b[39m-\u001b[39mwindow_size)\u001b[39m/\u001b[39mshift)\u001b[39m+\u001b[39m\u001b[39m1\u001b[39m)]\n\u001b[1;32m     14\u001b[0m \u001b[39mfor\u001b[39;00m i \u001b[39min\u001b[39;00m \u001b[39mrange\u001b[39m(\u001b[39mlen\u001b[39m(samp_pleth)):\n\u001b[1;32m     15\u001b[0m     temp \u001b[39m=\u001b[39m []\n",
      "Cell \u001b[0;32mIn[109], line 12\u001b[0m, in \u001b[0;36m<listcomp>\u001b[0;34m(.0)\u001b[0m\n\u001b[1;32m      9\u001b[0m \u001b[39mprint\u001b[39m(resp)\n\u001b[1;32m     11\u001b[0m samp_pleth \u001b[39m=\u001b[39m [pleth[\u001b[39m0\u001b[39m\u001b[39m+\u001b[39mshift\u001b[39m*\u001b[39mi:window_size\u001b[39m+\u001b[39mshift\u001b[39m*\u001b[39mi][\u001b[39m'\u001b[39m\u001b[39mpleth_y\u001b[39m\u001b[39m'\u001b[39m] \u001b[39mfor\u001b[39;00m i \u001b[39min\u001b[39;00m \u001b[39mrange\u001b[39m(\u001b[39mint\u001b[39m((\u001b[39mlen\u001b[39m(pleth)\u001b[39m-\u001b[39mwindow_size)\u001b[39m/\u001b[39mshift)\u001b[39m+\u001b[39m\u001b[39m1\u001b[39m)]\n\u001b[0;32m---> 12\u001b[0m samp_resp \u001b[39m=\u001b[39m [\u001b[39mround\u001b[39;49m(np\u001b[39m.\u001b[39;49mmean(resp\u001b[39m.\u001b[39;49mloc[(resp[\u001b[39m'\u001b[39;49m\u001b[39mresp_x\u001b[39;49m\u001b[39m'\u001b[39;49m]\u001b[39m>\u001b[39;49m\u001b[39m=\u001b[39;49m(\u001b[39m0\u001b[39;49m\u001b[39m+\u001b[39;49m\u001b[39mint\u001b[39;49m(shift\u001b[39m/\u001b[39;49mfs)\u001b[39m*\u001b[39;49mi)) \u001b[39m&\u001b[39;49m (resp[\u001b[39m'\u001b[39;49m\u001b[39mresp_x\u001b[39;49m\u001b[39m'\u001b[39;49m]\u001b[39m<\u001b[39;49m\u001b[39mint\u001b[39;49m(window_size\u001b[39m/\u001b[39;49mfs)\u001b[39m+\u001b[39;49m\u001b[39mint\u001b[39;49m(shift\u001b[39m/\u001b[39;49mfs)\u001b[39m*\u001b[39;49mi)][\u001b[39m'\u001b[39;49m\u001b[39mresp_y\u001b[39;49m\u001b[39m'\u001b[39;49m]\u001b[39m.\u001b[39;49mvalues)) \u001b[39mfor\u001b[39;00m i \u001b[39min\u001b[39;00m \u001b[39mrange\u001b[39m(\u001b[39mint\u001b[39m((\u001b[39mlen\u001b[39m(pleth)\u001b[39m-\u001b[39mwindow_size)\u001b[39m/\u001b[39mshift)\u001b[39m+\u001b[39m\u001b[39m1\u001b[39m)]\n\u001b[1;32m     14\u001b[0m \u001b[39mfor\u001b[39;00m i \u001b[39min\u001b[39;00m \u001b[39mrange\u001b[39m(\u001b[39mlen\u001b[39m(samp_pleth)):\n\u001b[1;32m     15\u001b[0m     temp \u001b[39m=\u001b[39m []\n",
      "\u001b[0;31mValueError\u001b[0m: cannot convert float NaN to integer"
     ]
    }
   ],
   "source": [
    "capno_dataset = []\n",
    "for sid in capno_id:\n",
    "    pleth = pd.read_csv(f'{DATA_PATH3}/{sid}_signal.csv', usecols=['pleth_y'])\n",
    "    resp_x = np.asarray(pd.read_csv(f'{DATA_PATH3}/{sid}_reference.csv')['rr_co2_x'][0].strip().split(' ')).reshape(-1,1)\n",
    "    resp_y = np.asarray(pd.read_csv(f'{DATA_PATH3}/{sid}_reference.csv')['rr_co2_y'][0].strip().split(' ')).reshape(-1,1)\n",
    "    resp = np.concatenate((resp_x, resp_y), axis=1)\n",
    "    resp = pd.DataFrame(resp, columns=['resp_x', 'resp_y'], dtype=np.float16)\n",
    "\n",
    "    print(resp)\n",
    "\n",
    "    samp_pleth = [pleth[0+shift*i:window_size+shift*i]['pleth_y'] for i in range(int((len(pleth)-window_size)/shift)+1)]\n",
    "    samp_resp = [round(np.mean(resp.loc[(resp['resp_x']>=(0+int(shift/fs)*i)) & (resp['resp_x']<int(window_size/fs)+int(shift/fs)*i)]['resp_y'].values)) for i in range(int((len(pleth)-window_size)/shift)+1)]\n",
    "\n",
    "    for i in range(len(samp_pleth)):\n",
    "        temp = []\n",
    "        temp.append(samp_pleth[i])\n",
    "        temp.append(samp_resp[i])\n",
    "        capno_dataset.append(np.asarray(temp, dtype=object))\n",
    "\n",
    "capno_dataset = np.asarray(capno_dataset)\n",
    "print(capno_dataset.shape)"
   ]
  },
  {
   "cell_type": "code",
   "execution_count": 99,
   "metadata": {},
   "outputs": [],
   "source": [
    "resp_x = np.asarray(pd.read_csv(f'{DATA_PATH3}/{capno_id[0]}_reference.csv')['rr_co2_x'][0].strip().split(' ')).reshape(-1,1)\n",
    "resp_y = np.asarray(pd.read_csv(f'{DATA_PATH3}/{capno_id[0]}_reference.csv')['rr_co2_y'][0].strip().split(' ')).reshape(-1,1)\n",
    "resp = np.concatenate((resp_x, resp_y), axis=1)\n",
    "resp = pd.DataFrame(resp, columns=['resp_x', 'resp_y'], dtype=np.float16)"
   ]
  },
  {
   "cell_type": "code",
   "execution_count": 105,
   "metadata": {},
   "outputs": [
    {
     "data": {
      "text/plain": [
       "[18,\n",
       " 18,\n",
       " 18,\n",
       " 18,\n",
       " 18,\n",
       " 17,\n",
       " 17,\n",
       " 18,\n",
       " 18,\n",
       " 18,\n",
       " 18,\n",
       " 19,\n",
       " 20,\n",
       " 21,\n",
       " 21,\n",
       " 21,\n",
       " 20,\n",
       " 20,\n",
       " 20,\n",
       " 20,\n",
       " 19,\n",
       " 19,\n",
       " 19,\n",
       " 19,\n",
       " 19,\n",
       " 19,\n",
       " 19,\n",
       " 20,\n",
       " 20]"
      ]
     },
     "execution_count": 105,
     "metadata": {},
     "output_type": "execute_result"
    }
   ],
   "source": [
    "[round(np.mean(resp.loc[(resp['resp_x']>=(0+int(shift/fs)*i)) & (resp['resp_x']<int(window_size/fs)+int(shift/fs)*i)]['resp_y'].values)) for i in range(int((len(pleth)-window_size)/shift)+1)]"
   ]
  },
  {
   "attachments": {},
   "cell_type": "markdown",
   "metadata": {},
   "source": [
    "### 4.3. Compare stMary with BIDMC"
   ]
  },
  {
   "cell_type": "code",
   "execution_count": 116,
   "metadata": {},
   "outputs": [],
   "source": [
    "from scipy import stats"
   ]
  },
  {
   "cell_type": "code",
   "execution_count": 124,
   "metadata": {},
   "outputs": [
    {
     "name": "stdout",
     "output_type": "stream",
     "text": [
      "(100,) (53,)\n"
     ]
    }
   ],
   "source": [
    "col_names = ['sid', 'offset', 'pleth']\n",
    "stmary_pleth = np.asarray([np.mean(pd.read_csv(f'{DATA_PATH}/{sid}/pleth.csv', header=None, names=col_names).pleth.values, axis=0) for sid in patients.id.unique()])\n",
    "bidmc_pleth = np.asarray([np.mean(pd.read_csv(f'{DATA_PATH2}/{sid}_Signals.csv', usecols=['Time [s]', ' PLETH'])[' PLETH'].values, axis=0) for sid in bidmc_id])\n",
    "print(stmary_pleth.shape, bidmc_pleth.shape)"
   ]
  },
  {
   "cell_type": "code",
   "execution_count": 134,
   "metadata": {},
   "outputs": [],
   "source": [
    "scaled_stmary_pleth = (stmary_pleth - stmary_pleth.min())/(stmary_pleth.max() - stmary_pleth.min())\n",
    "scaled_bidmc_pleth = (bidmc_pleth - bidmc_pleth.min())/(bidmc_pleth.max() - bidmc_pleth.min())"
   ]
  },
  {
   "cell_type": "code",
   "execution_count": 139,
   "metadata": {},
   "outputs": [
    {
     "data": {
      "text/plain": [
       "array([0.5608812 , 0.51785177, 0.32098997, 0.28679674, 0.70475638,\n",
       "       0.69284515, 0.34398201, 0.27287968, 0.78422451, 0.73578647,\n",
       "       0.46667776, 0.47369773, 0.31212233, 0.34049664, 0.3369354 ,\n",
       "       0.31024865, 0.40577912, 0.44466166, 0.41780359, 0.43964377,\n",
       "       0.49853685, 0.53180997, 0.45287477, 0.47014998, 0.5962023 ,\n",
       "       0.56506479, 0.75635486, 0.75865222, 0.73898877, 0.73113901,\n",
       "       0.64775661, 0.68497243, 0.67310437, 0.72110248, 0.46682588,\n",
       "       0.39290689, 0.63728309, 0.62722165, 1.        , 0.94062697,\n",
       "       0.39421628, 0.37151261, 0.6110545 , 0.57599746, 0.7362125 ,\n",
       "       0.7032443 , 0.78496463, 0.79076258, 0.5993447 , 0.80483661,\n",
       "       0.61124595, 0.60253162, 0.76953568, 0.6728277 , 0.49013213,\n",
       "       0.52364934, 0.59901339, 0.52233485, 0.63532764, 0.6298662 ,\n",
       "       0.02846256, 0.        , 0.3311741 , 0.35603293, 0.60663686,\n",
       "       0.52102185, 0.24705098, 0.25398228, 0.35653686, 0.41865882,\n",
       "       0.02434546, 0.08126594, 0.13230553, 0.09057664, 0.64884226,\n",
       "       0.65363051, 0.31197471, 0.0330601 , 0.41663774, 0.44216797,\n",
       "       0.65420196, 0.76950969, 0.82049119, 0.8308011 , 0.73093699,\n",
       "       0.60363319, 0.21852532, 0.2084296 , 0.32026166, 0.4139875 ,\n",
       "       0.71248569, 0.76603229, 0.24619741, 0.33380323, 0.50708557,\n",
       "       0.38789124, 0.51766622, 0.5055822 , 0.5985105 , 0.706565  ])"
      ]
     },
     "execution_count": 139,
     "metadata": {},
     "output_type": "execute_result"
    }
   ],
   "source": [
    "scaled_stmary_pleth"
   ]
  },
  {
   "cell_type": "code",
   "execution_count": 140,
   "metadata": {},
   "outputs": [
    {
     "data": {
      "text/plain": [
       "array([0.04510608, 0.04682298, 0.0201697 , 0.02057451, 0.06430595,\n",
       "       0.01396873, 0.04820357, 0.04475325, 0.04642563, 0.03095074,\n",
       "       0.04068826, 0.05313317, 0.02247091, 0.05018397, 0.0601263 ,\n",
       "       0.02393773, 0.03281853, 0.02636666, 0.06550024, 0.05739245,\n",
       "       0.05445142, 0.05775965, 0.        , 0.04782319, 0.04768436,\n",
       "       0.04818814, 0.03333279, 0.05214455, 0.04260443, 0.01558319,\n",
       "       0.05850096, 0.06300289, 0.04991742, 0.05522036, 0.05652004,\n",
       "       0.02137056, 0.04565282, 0.05239482, 0.04680596, 0.99765575,\n",
       "       0.05020784, 0.874909  , 0.05649382, 1.        , 0.97013879,\n",
       "       0.94320882, 0.93512366, 0.9404838 , 0.02923316, 0.06296928,\n",
       "       0.03639267, 0.88733998, 0.91845844])"
      ]
     },
     "execution_count": 140,
     "metadata": {},
     "output_type": "execute_result"
    }
   ],
   "source": [
    "scaled_bidmc_pleth"
   ]
  },
  {
   "cell_type": "code",
   "execution_count": 135,
   "metadata": {},
   "outputs": [
    {
     "data": {
      "text/plain": [
       "BartlettResult(statistic=15.727851212013526, pvalue=7.31392939375778e-05)"
      ]
     },
     "execution_count": 135,
     "metadata": {},
     "output_type": "execute_result"
    }
   ],
   "source": [
    "stats.bartlett(scaled_stmary_pleth, scaled_bidmc_pleth)"
   ]
  },
  {
   "cell_type": "code",
   "execution_count": 136,
   "metadata": {},
   "outputs": [
    {
     "data": {
      "text/plain": [
       "Ttest_indResult(statistic=6.164472379167325, pvalue=3.362547301482889e-08)"
      ]
     },
     "execution_count": 136,
     "metadata": {},
     "output_type": "execute_result"
    }
   ],
   "source": [
    "stats.ttest_ind(scaled_stmary_pleth, scaled_bidmc_pleth, equal_var=False)"
   ]
  },
  {
   "cell_type": "code",
   "execution_count": 138,
   "metadata": {},
   "outputs": [
    {
     "data": {
      "image/png": "[encoded data removed]",
      "text/plain": [
       "<Figure size 640x480 with 1 Axes>"
      ]
     },
     "metadata": {},
     "output_type": "display_data"
    }
   ],
   "source": [
    "plt.hist(scaled_stmary_pleth, bins=15, density=True, alpha=0.5, label='stmary', color='r')\n",
    "plt.hist(scaled_bidmc_pleth, bins=15, density=True, alpha=0.5, label='bidmc', color='b')\n",
    "plt.show()"
   ]
  },
  {
   "cell_type": "code",
   "execution_count": null,
   "metadata": {},
   "outputs": [],
   "source": []
  }
 ],
 "metadata": {
  "kernelspec": {
   "display_name": "Python 3",
   "language": "python",
   "name": "python3"
  },
  "language_info": {
   "codemirror_mode": {
    "name": "ipython",
    "version": 3
   },
   "file_extension": ".py",
   "mimetype": "text/x-python",
   "name": "python",
   "nbconvert_exporter": "python",
   "pygments_lexer": "ipython3",
   "version": "3.10.6"
  },
  "orig_nbformat": 4,
  "vscode": {
   "interpreter": {
    "hash": "31f2aee4e71d21fbe5cf8b01ff0e069b9275f58929596ceb00d14d90e3e16cd6"
   }
  }
 },
 "nbformat": 4,
 "nbformat_minor": 2
}
